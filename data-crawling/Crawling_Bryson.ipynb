{
 "cells": [
  {
   "cell_type": "code",
   "execution_count": 85,
   "id": "5a372097",
   "metadata": {},
   "outputs": [],
   "source": [
    "import pandas as pd\n",
    "import os"
   ]
  },
  {
   "cell_type": "markdown",
   "id": "8af236ab",
   "metadata": {},
   "source": [
    "# Crawl Data using APIFY API"
   ]
  },
  {
   "cell_type": "code",
   "execution_count": 86,
   "id": "57802f4a",
   "metadata": {},
   "outputs": [],
   "source": [
    "# from apify_client import ApifyClient\n",
    "# import json\n",
    "\n",
    "# # Initialize the ApifyClient with your API token\n",
    "# client = ApifyClient(\"apify_api_5nDuK1iAzq0ieU8MqqSrI0aeT6i1Er1OW4no\")\n",
    "\n",
    "# def crawl_data(input_url):\n",
    "#     data_list = []\n",
    "#     # Prepare the actor input\n",
    "#     run_input = {\n",
    "#         \"productUrls\": [{ \"url\": input_url }],\n",
    "#         #\"maxReviews\": 1000,\n",
    "#         \"proxyConfiguration\": { \"useApifyProxy\": True },\n",
    "#         \"extendedOutputFunction\": \"($) => { return {} }\",\n",
    "#     }\n",
    "\n",
    "#     # Run the actor and wait for it to finish\n",
    "#     run = client.actor(\"lhotanok/amazon-reviews-scraper\").call(run_input=run_input)\n",
    "\n",
    "#     # Fetch and print actor results from the run's dataset (if there are any)\n",
    "#     for item in client.dataset(run[\"defaultDatasetId\"]).iterate_items():\n",
    "#         #print(item)\n",
    "#         data_list.append(item)\n",
    "#     return data_list"
   ]
  },
  {
   "cell_type": "markdown",
   "id": "dc57302e",
   "metadata": {},
   "source": [
    "## Helper Functions"
   ]
  },
  {
   "cell_type": "code",
   "execution_count": 87,
   "id": "00ed82e3",
   "metadata": {},
   "outputs": [],
   "source": [
    "def add_column(data, category_name):\n",
    "    if category_name is not None:\n",
    "        category = category_name\n",
    "        category_list = [category]*len(data)\n",
    "        data['category'] = category_list\n",
    "    \n",
    "    return data\n",
    "\n",
    "def check_remove_duplicates(new_data):\n",
    "    has_duplicate = new_data.duplicated(subset=['reviewDescription']).any()\n",
    "    if has_duplicate:\n",
    "        new_data.drop_duplicates(subset=['reviewDescription'], inplace=True)\n",
    "        \n",
    "    return new_data\n",
    "    \n",
    "def visualize_duplicates(data):\n",
    "    duplicates = data[data.duplicated(['reviewDescription'])]\n",
    "    print(\"Visualizing \" + str(len(duplicates)) + \" duplicate reviews:\")\n",
    "\n",
    "    return duplicates\n",
    "\n",
    "def save_to_json(data, json_filename, category_name, export):\n",
    "    new_data = add_column(data, category_name)\n",
    "\n",
    "    if export:\n",
    "        new_data.to_json(json_filename + \"_preprocessed.csv\")\n",
    "    \n",
    "    return new_data\n",
    "\n",
    "def save_to_csv(data, csv_filename, category_name, export):\n",
    "    new_data = add_column(data, category_name)\n",
    "    \n",
    "    if export:\n",
    "        new_data.to_csv(csv_filename + \"_preprocessed.csv\", index=False)\n",
    "    \n",
    "    return new_data"
   ]
  },
  {
   "cell_type": "markdown",
   "id": "3517c21f",
   "metadata": {},
   "source": [
    "# Import Crawled local .csv files (Local)"
   ]
  },
  {
   "cell_type": "code",
   "execution_count": 88,
   "id": "3468ff21",
   "metadata": {},
   "outputs": [
    {
     "name": "stdout",
     "output_type": "stream",
     "text": [
      "1984.csv\n",
      "Will-Smith.csv\n",
      "I-Love-You-to-the-Moon-and-Back.csv\n",
      "Burn-After-Writing-Pink.csv\n",
      "Fahrenheit-451.csv\n",
      "Percy-Jackson-and-the-Olympians-5-Book.csv\n",
      "Let-That-Shit-Go.csv\n",
      "Im-Glad-My-Mom-Died.csv\n",
      "Animal-Farm-75th-Anniversary-Edition.csv\n",
      "Dungeon-Dragons-Core-Rulebook.csv\n",
      "Brown-Bear-Brown-Bear-What-Do-You-See.csv\n",
      "The-Wonderful-Things-You-Will-Be.csv\n",
      "The-Outsiders-40th-Anniversary-edition.csv\n",
      "The-Very-Hungry-Caterpillar.csv\n",
      "The-Storyteller-Tales-of-Life-and-Music.csv\n",
      "Our-Class-is-a-Family.csv\n",
      "Big-Preschool-Workbook.csv\n",
      "My-First-Library.csv\n",
      "Born-a-Crime-Stories-from-a-South-African-Childhood.csv\n",
      "It-Ends-With-Us-A-Novel.csv\n",
      "My-First-Learn-to-Write-Workbook.csv\n",
      "Little-Blue-Trucks-Halloween.csv\n"
     ]
    }
   ],
   "source": [
    "# Import configuration\n",
    "dir_path = r'/Users/bryson/Documents/bryson/NTU/modules/CZ4045_NLP/books'\n",
    "\n",
    "books_csv_file_names = []\n",
    "for path in os.listdir(dir_path):\n",
    "    # check if current path is a file\n",
    "    if os.path.isfile(os.path.join(dir_path, path)):\n",
    "        print(path)\n",
    "        books_csv_file_names.append(path)"
   ]
  },
  {
   "cell_type": "markdown",
   "id": "3bbb1431",
   "metadata": {},
   "source": [
    "## Export Settings and Summary Tools"
   ]
  },
  {
   "cell_type": "code",
   "execution_count": 89,
   "id": "1d6bca67",
   "metadata": {},
   "outputs": [],
   "source": [
    "# Summary and export settings\n",
    "reviews_crawled = 0\n",
    "export_to_csv = False\n",
    "final_df_list = []\n",
    "column_format = [\"productAsin\", \"ratingScore\", \"reviewTitle\",\n",
    "                 \"reviewReaction\", \"reviewDescription\", \"isVerified\", \"category\"]"
   ]
  },
  {
   "cell_type": "markdown",
   "id": "bcfb2e66",
   "metadata": {},
   "source": [
    "## Crawling from 1984 (Humor & Entertainment Book)"
   ]
  },
  {
   "cell_type": "code",
   "execution_count": 90,
   "id": "9041bead",
   "metadata": {},
   "outputs": [],
   "source": [
    "file_name = \"1984\"\n",
    "file_extension = \".csv\"\n",
    "book_reviews_df = pd.read_csv(dir_path + '/' + file_name + file_extension)\n",
    "\n",
    "reviews_crawled += len(book_reviews_df)\n",
    "book_reviews_df = add_column(book_reviews_df, \"humor_entertainment\")\n",
    "final_df_list.append(book_reviews_df[column_format])"
   ]
  },
  {
   "cell_type": "markdown",
   "id": "5a6d9b85",
   "metadata": {},
   "source": [
    "## Crawling from Animal-Farm-75th-Anniversary-Edition (Humor & Entertainment Book)"
   ]
  },
  {
   "cell_type": "code",
   "execution_count": 91,
   "id": "b8267ce1",
   "metadata": {},
   "outputs": [],
   "source": [
    "file_name = \"Animal-Farm-75th-Anniversary-Edition\"\n",
    "file_extension = \".csv\"\n",
    "book_reviews_df = pd.read_csv(dir_path + '/' + file_name + file_extension)\n",
    "\n",
    "reviews_crawled += len(book_reviews_df)\n",
    "book_reviews_df = add_column(book_reviews_df, \"humor_entertainment\")\n",
    "final_df_list.append(book_reviews_df[column_format])"
   ]
  },
  {
   "cell_type": "markdown",
   "id": "a81c707a",
   "metadata": {},
   "source": [
    "## Crawling from Born-a-Crime-Stories-from-a-South-African-Childhood (Humor & Entertainment Book)"
   ]
  },
  {
   "cell_type": "code",
   "execution_count": 92,
   "id": "3977118f",
   "metadata": {},
   "outputs": [],
   "source": [
    "file_name = \"Born-a-Crime-Stories-from-a-South-African-Childhood\"\n",
    "file_extension = \".csv\"\n",
    "book_reviews_df = pd.read_csv(dir_path + '/' + file_name + file_extension)\n",
    "\n",
    "reviews_crawled += len(book_reviews_df)\n",
    "book_reviews_df = add_column(book_reviews_df, \"humor_entertainment\")\n",
    "final_df_list.append(book_reviews_df[column_format])"
   ]
  },
  {
   "cell_type": "markdown",
   "id": "d24866f4",
   "metadata": {},
   "source": [
    "## Crawling from Burn-After-Writing-Pink (Humor & Entertainment Book)"
   ]
  },
  {
   "cell_type": "code",
   "execution_count": 93,
   "id": "ea534923",
   "metadata": {},
   "outputs": [],
   "source": [
    "file_name = \"Burn-After-Writing-Pink\"\n",
    "file_extension = \".csv\"\n",
    "book_reviews_df = pd.read_csv(dir_path + '/' + file_name + file_extension)\n",
    "\n",
    "reviews_crawled += len(book_reviews_df)\n",
    "book_reviews_df = add_column(book_reviews_df, \"humor_entertainment\")\n",
    "final_df_list.append(book_reviews_df[column_format])"
   ]
  },
  {
   "cell_type": "markdown",
   "id": "8f464745",
   "metadata": {},
   "source": [
    "## Crawling from Dungeon-Dragons-Core-Rulebook (Humor & Entertainment Book)"
   ]
  },
  {
   "cell_type": "code",
   "execution_count": 94,
   "id": "6b753084",
   "metadata": {},
   "outputs": [],
   "source": [
    "file_name = \"Dungeon-Dragons-Core-Rulebook\"\n",
    "file_extension = \".csv\"\n",
    "book_reviews_df = pd.read_csv(dir_path + '/' + file_name + file_extension)\n",
    "\n",
    "reviews_crawled += len(book_reviews_df)\n",
    "book_reviews_df = add_column(book_reviews_df, \"children\")\n",
    "final_df_list.append(book_reviews_df[column_format])"
   ]
  },
  {
   "cell_type": "markdown",
   "id": "82ae6d81",
   "metadata": {},
   "source": [
    "## Crawling from Fahrenheit-451 (Humor & Entertainment Book)"
   ]
  },
  {
   "cell_type": "code",
   "execution_count": 95,
   "id": "ee6785bc",
   "metadata": {},
   "outputs": [],
   "source": [
    "file_name = \"Fahrenheit-451\"\n",
    "file_extension = \".csv\"\n",
    "book_reviews_df = pd.read_csv(dir_path + '/' + file_name + file_extension)\n",
    "\n",
    "reviews_crawled += len(book_reviews_df)\n",
    "book_reviews_df = add_column(book_reviews_df, \"humor_entertainment\")\n",
    "final_df_list.append(book_reviews_df[column_format])"
   ]
  },
  {
   "cell_type": "markdown",
   "id": "8dfdb426",
   "metadata": {},
   "source": [
    "## Crawling from Im-Glad-My-Mom-Died (Humor & Entertainment Book)"
   ]
  },
  {
   "cell_type": "code",
   "execution_count": 96,
   "id": "0f1804ec",
   "metadata": {},
   "outputs": [],
   "source": [
    "file_name = \"Im-Glad-My-Mom-Died\"\n",
    "file_extension = \".csv\"\n",
    "book_reviews_df = pd.read_csv(dir_path + '/' + file_name + file_extension)\n",
    "\n",
    "reviews_crawled += len(book_reviews_df)\n",
    "book_reviews_df = add_column(book_reviews_df, \"humor_entertainment\")\n",
    "final_df_list.append(book_reviews_df[column_format])"
   ]
  },
  {
   "cell_type": "markdown",
   "id": "d9b5ab1a",
   "metadata": {},
   "source": [
    "## Crawling from It-Ends-With-Us-A-Novel (Humor & Entertainment Book)"
   ]
  },
  {
   "cell_type": "code",
   "execution_count": 97,
   "id": "803d7709",
   "metadata": {},
   "outputs": [],
   "source": [
    "file_name = \"It-Ends-With-Us-A-Novel\"\n",
    "file_extension = \".csv\"\n",
    "book_reviews_df = pd.read_csv(dir_path + '/' + file_name + file_extension)\n",
    "\n",
    "reviews_crawled += len(book_reviews_df)\n",
    "book_reviews_df = add_column(book_reviews_df, \"humor_entertainment\")\n",
    "final_df_list.append(book_reviews_df[column_format])"
   ]
  },
  {
   "cell_type": "markdown",
   "id": "1028bcbb",
   "metadata": {},
   "source": [
    "## Crawling from Let-That-Shit-Go (Humor & Entertainment Book)"
   ]
  },
  {
   "cell_type": "code",
   "execution_count": 98,
   "id": "f3a9ac5f",
   "metadata": {},
   "outputs": [],
   "source": [
    "file_name = \"Let-That-Shit-Go\"\n",
    "file_extension = \".csv\"\n",
    "book_reviews_df = pd.read_csv(dir_path + '/' + file_name + file_extension)\n",
    "\n",
    "reviews_crawled += len(book_reviews_df)\n",
    "book_reviews_df = add_column(book_reviews_df, \"humor_entertainment\")\n",
    "final_df_list.append(book_reviews_df[column_format])"
   ]
  },
  {
   "cell_type": "markdown",
   "id": "36c1ba45",
   "metadata": {},
   "source": [
    "## Crawling from The-Storyteller-Tales-of-Life-and-Music (Humor & Entertainment Book)"
   ]
  },
  {
   "cell_type": "code",
   "execution_count": 99,
   "id": "235b048f",
   "metadata": {},
   "outputs": [],
   "source": [
    "file_name = \"The-Storyteller-Tales-of-Life-and-Music\"\n",
    "file_extension = \".csv\"\n",
    "book_reviews_df = pd.read_csv(dir_path + '/' + file_name + file_extension)\n",
    "\n",
    "reviews_crawled += len(book_reviews_df)\n",
    "book_reviews_df = add_column(book_reviews_df, \"humor_entertainment\")\n",
    "final_df_list.append(book_reviews_df[column_format])"
   ]
  },
  {
   "cell_type": "markdown",
   "id": "0174341e",
   "metadata": {},
   "source": [
    "## Crawling from Will-Smith (Humor & Entertainment Book)"
   ]
  },
  {
   "cell_type": "code",
   "execution_count": 100,
   "id": "f753779b",
   "metadata": {},
   "outputs": [],
   "source": [
    "file_name = \"Will-Smith\"\n",
    "file_extension = \".csv\"\n",
    "book_reviews_df = pd.read_csv(dir_path + '/' + file_name + file_extension)\n",
    "\n",
    "reviews_crawled += len(book_reviews_df)\n",
    "book_reviews_df = add_column(book_reviews_df, \"humor_entertainment\")\n",
    "final_df_list.append(book_reviews_df[column_format])"
   ]
  },
  {
   "cell_type": "markdown",
   "id": "ab26af23",
   "metadata": {},
   "source": [
    "## Crawling from The-Wonderful-Things-You-Will-Be (Children's Book)"
   ]
  },
  {
   "cell_type": "code",
   "execution_count": 101,
   "id": "3ba87c0c",
   "metadata": {},
   "outputs": [],
   "source": [
    "file_name = \"The-Wonderful-Things-You-Will-Be\"\n",
    "file_extension = \".csv\"\n",
    "book_reviews_df = pd.read_csv(dir_path + '/' + file_name + file_extension)\n",
    "\n",
    "reviews_crawled += len(book_reviews_df)\n",
    "book_reviews_df = add_column(book_reviews_df, \"children\")\n",
    "final_df_list.append(book_reviews_df[column_format])"
   ]
  },
  {
   "cell_type": "markdown",
   "id": "136cf7f2",
   "metadata": {},
   "source": [
    "## Crawling from The-Very-Hungry-Caterpillar (Children's Book)"
   ]
  },
  {
   "cell_type": "code",
   "execution_count": 102,
   "id": "9fb271ce",
   "metadata": {},
   "outputs": [],
   "source": [
    "file_name = \"The-Very-Hungry-Caterpillar\"\n",
    "file_extension = \".csv\"\n",
    "book_reviews_df = pd.read_csv(dir_path + '/' + file_name + file_extension)\n",
    "\n",
    "reviews_crawled += len(book_reviews_df)\n",
    "book_reviews_df = add_column(book_reviews_df, \"children\")\n",
    "final_df_list.append(book_reviews_df[column_format])"
   ]
  },
  {
   "cell_type": "markdown",
   "id": "41603057",
   "metadata": {},
   "source": [
    "## Crawling from The-Outsiders-40th-Anniversary-edition (Children's Book)"
   ]
  },
  {
   "cell_type": "code",
   "execution_count": 103,
   "id": "daf6ca76",
   "metadata": {},
   "outputs": [],
   "source": [
    "file_name = \"The-Outsiders-40th-Anniversary-edition\"\n",
    "file_extension = \".csv\"\n",
    "book_reviews_df = pd.read_csv(dir_path + '/' + file_name + file_extension)\n",
    "\n",
    "reviews_crawled += len(book_reviews_df)\n",
    "book_reviews_df = add_column(book_reviews_df, \"children\")\n",
    "final_df_list.append(book_reviews_df[column_format])"
   ]
  },
  {
   "cell_type": "markdown",
   "id": "8e35aa97",
   "metadata": {},
   "source": [
    "## Crawling from Our-Class-is-a-Family (Children's Book)"
   ]
  },
  {
   "cell_type": "code",
   "execution_count": 104,
   "id": "cb603ec1",
   "metadata": {},
   "outputs": [],
   "source": [
    "file_name = \"Our-Class-is-a-Family\"\n",
    "file_extension = \".csv\"\n",
    "book_reviews_df = pd.read_csv(dir_path + '/' + file_name + file_extension)\n",
    "\n",
    "reviews_crawled += len(book_reviews_df)\n",
    "book_reviews_df = add_column(book_reviews_df, \"children\")\n",
    "final_df_list.append(book_reviews_df[column_format])"
   ]
  },
  {
   "cell_type": "markdown",
   "id": "be3d2ec9",
   "metadata": {},
   "source": [
    "## Crawling from My-First-Library (Children's Book)"
   ]
  },
  {
   "cell_type": "code",
   "execution_count": 105,
   "id": "182bbec6",
   "metadata": {},
   "outputs": [],
   "source": [
    "file_name = \"My-First-Library\"\n",
    "file_extension = \".csv\"\n",
    "book_reviews_df = pd.read_csv(dir_path + '/' + file_name + file_extension)\n",
    "\n",
    "reviews_crawled += len(book_reviews_df)\n",
    "book_reviews_df = add_column(book_reviews_df, \"children\")\n",
    "final_df_list.append(book_reviews_df[column_format])"
   ]
  },
  {
   "cell_type": "markdown",
   "id": "428248f1",
   "metadata": {},
   "source": [
    "## Crawling from My-First-Learn-to-Write-Workbook (Children's Book)"
   ]
  },
  {
   "cell_type": "code",
   "execution_count": 106,
   "id": "098d4168",
   "metadata": {},
   "outputs": [],
   "source": [
    "file_name = \"My-First-Learn-to-Write-Workbook\"\n",
    "file_extension = \".csv\"\n",
    "book_reviews_df = pd.read_csv(dir_path + '/' + file_name + file_extension)\n",
    "\n",
    "reviews_crawled += len(book_reviews_df)\n",
    "book_reviews_df = add_column(book_reviews_df, \"children\")\n",
    "final_df_list.append(book_reviews_df[column_format])"
   ]
  },
  {
   "cell_type": "markdown",
   "id": "8266ce31",
   "metadata": {},
   "source": [
    "## Crawling from Little-Blue-Trucks-Halloween (Children's Book)"
   ]
  },
  {
   "cell_type": "code",
   "execution_count": 107,
   "id": "10a41c74",
   "metadata": {},
   "outputs": [],
   "source": [
    "file_name = \"Little-Blue-Trucks-Halloween\"\n",
    "file_extension = \".csv\"\n",
    "book_reviews_df = pd.read_csv(dir_path + '/' + file_name + file_extension)\n",
    "\n",
    "reviews_crawled += len(book_reviews_df)\n",
    "book_reviews_df = add_column(book_reviews_df, \"children\")\n",
    "final_df_list.append(book_reviews_df[column_format])"
   ]
  },
  {
   "cell_type": "markdown",
   "id": "52517098",
   "metadata": {},
   "source": [
    "## Crawling from I-Love-You-to-the-Moon-and-Back (Children's Book)"
   ]
  },
  {
   "cell_type": "code",
   "execution_count": 108,
   "id": "e11f20e6",
   "metadata": {},
   "outputs": [],
   "source": [
    "file_name = \"I-Love-You-to-the-Moon-and-Back\"\n",
    "file_extension = \".csv\"\n",
    "book_reviews_df = pd.read_csv(dir_path + '/' + file_name + file_extension)\n",
    "\n",
    "reviews_crawled += len(book_reviews_df)\n",
    "book_reviews_df = add_column(book_reviews_df, \"children\")\n",
    "final_df_list.append(book_reviews_df[column_format])"
   ]
  },
  {
   "cell_type": "markdown",
   "id": "3620d254",
   "metadata": {},
   "source": [
    "## Crawling from Percy-Jackson-and-the-Olympians-5-Book (Children's Book)"
   ]
  },
  {
   "cell_type": "code",
   "execution_count": 109,
   "id": "6c165dbc",
   "metadata": {},
   "outputs": [],
   "source": [
    "file_name = \"Percy-Jackson-and-the-Olympians-5-Book\"\n",
    "file_extension = \".csv\"\n",
    "book_reviews_df = pd.read_csv(dir_path + '/' + file_name + file_extension)\n",
    "\n",
    "reviews_crawled += len(book_reviews_df)\n",
    "book_reviews_df = add_column(book_reviews_df, \"children\")\n",
    "final_df_list.append(book_reviews_df[column_format])"
   ]
  },
  {
   "cell_type": "markdown",
   "id": "dba34516",
   "metadata": {},
   "source": [
    "## Crawling from Brown-Bear-Brown-Bear-What-Do-You-See (Children's Book)"
   ]
  },
  {
   "cell_type": "code",
   "execution_count": 110,
   "id": "dc2218b0",
   "metadata": {},
   "outputs": [],
   "source": [
    "file_name = \"Brown-Bear-Brown-Bear-What-Do-You-See\"\n",
    "file_extension = \".csv\"\n",
    "book_reviews_df = pd.read_csv(dir_path + '/' + file_name + file_extension)\n",
    "\n",
    "reviews_crawled += len(book_reviews_df)\n",
    "book_reviews_df = add_column(book_reviews_df, \"children\")\n",
    "final_df_list.append(book_reviews_df[column_format])"
   ]
  },
  {
   "cell_type": "markdown",
   "id": "01fd1247",
   "metadata": {},
   "source": [
    "## Crawling from Big-Preschool-Workbook (Children's Book)"
   ]
  },
  {
   "cell_type": "code",
   "execution_count": 111,
   "id": "a446662b",
   "metadata": {},
   "outputs": [],
   "source": [
    "file_name = \"Big-Preschool-Workbook\"\n",
    "file_extension = \".csv\"\n",
    "book_reviews_df = pd.read_csv(dir_path + '/' + file_name + file_extension)\n",
    "\n",
    "reviews_crawled += len(book_reviews_df)\n",
    "book_reviews_df = add_column(book_reviews_df, \"children\")\n",
    "final_df_list.append(book_reviews_df[column_format])"
   ]
  },
  {
   "cell_type": "markdown",
   "id": "b4965850",
   "metadata": {},
   "source": [
    "# Concatenate datas and remove duplicates"
   ]
  },
  {
   "cell_type": "code",
   "execution_count": 112,
   "id": "3fd26f10",
   "metadata": {},
   "outputs": [
    {
     "name": "stdout",
     "output_type": "stream",
     "text": [
      "Visualizing 1776 duplicate reviews:\n"
     ]
    },
    {
     "data": {
      "text/html": [
       "<div>\n",
       "<style scoped>\n",
       "    .dataframe tbody tr th:only-of-type {\n",
       "        vertical-align: middle;\n",
       "    }\n",
       "\n",
       "    .dataframe tbody tr th {\n",
       "        vertical-align: top;\n",
       "    }\n",
       "\n",
       "    .dataframe thead th {\n",
       "        text-align: right;\n",
       "    }\n",
       "</style>\n",
       "<table border=\"1\" class=\"dataframe\">\n",
       "  <thead>\n",
       "    <tr style=\"text-align: right;\">\n",
       "      <th></th>\n",
       "      <th>productAsin</th>\n",
       "      <th>ratingScore</th>\n",
       "      <th>reviewTitle</th>\n",
       "      <th>reviewReaction</th>\n",
       "      <th>reviewDescription</th>\n",
       "      <th>isVerified</th>\n",
       "      <th>category</th>\n",
       "    </tr>\n",
       "  </thead>\n",
       "  <tbody>\n",
       "    <tr>\n",
       "      <th>30</th>\n",
       "      <td>451524934</td>\n",
       "      <td>5</td>\n",
       "      <td>9/11 false flag, Moon Landing hoax, JFK coup d...</td>\n",
       "      <td>12 people found this helpful</td>\n",
       "      <td>\" ' How is the dictionary getting on?' Said Wi...</td>\n",
       "      <td>True</td>\n",
       "      <td>humor_entertainment</td>\n",
       "    </tr>\n",
       "    <tr>\n",
       "      <th>270</th>\n",
       "      <td>451524934</td>\n",
       "      <td>5</td>\n",
       "      <td>9/11 false flag, Moon Landing hoax, JFK coup d...</td>\n",
       "      <td>12 people found this helpful</td>\n",
       "      <td>\" ' How is the dictionary getting on?' Said Wi...</td>\n",
       "      <td>True</td>\n",
       "      <td>humor_entertainment</td>\n",
       "    </tr>\n",
       "    <tr>\n",
       "      <th>280</th>\n",
       "      <td>451524934</td>\n",
       "      <td>5</td>\n",
       "      <td>9/11 false flag, Moon Landing hoax, JFK coup d...</td>\n",
       "      <td>12 people found this helpful</td>\n",
       "      <td>\" ' How is the dictionary getting on?' Said Wi...</td>\n",
       "      <td>True</td>\n",
       "      <td>humor_entertainment</td>\n",
       "    </tr>\n",
       "    <tr>\n",
       "      <th>290</th>\n",
       "      <td>451524934</td>\n",
       "      <td>5</td>\n",
       "      <td>9/11 false flag, Moon Landing hoax, JFK coup d...</td>\n",
       "      <td>12 people found this helpful</td>\n",
       "      <td>\" ' How is the dictionary getting on?' Said Wi...</td>\n",
       "      <td>True</td>\n",
       "      <td>humor_entertainment</td>\n",
       "    </tr>\n",
       "    <tr>\n",
       "      <th>120</th>\n",
       "      <td>451524934</td>\n",
       "      <td>5</td>\n",
       "      <td>9/11 false flag, Moon Landing hoax, JFK coup d...</td>\n",
       "      <td>12 people found this helpful</td>\n",
       "      <td>\" ' How is the dictionary getting on?' Said Wi...</td>\n",
       "      <td>True</td>\n",
       "      <td>humor_entertainment</td>\n",
       "    </tr>\n",
       "    <tr>\n",
       "      <th>...</th>\n",
       "      <td>...</td>\n",
       "      <td>...</td>\n",
       "      <td>...</td>\n",
       "      <td>...</td>\n",
       "      <td>...</td>\n",
       "      <td>...</td>\n",
       "      <td>...</td>\n",
       "    </tr>\n",
       "    <tr>\n",
       "      <th>10359</th>\n",
       "      <td>141501596</td>\n",
       "      <td>5</td>\n",
       "      <td>Great classic</td>\n",
       "      <td>NaN</td>\n",
       "      <td>NaN</td>\n",
       "      <td>True</td>\n",
       "      <td>children</td>\n",
       "    </tr>\n",
       "    <tr>\n",
       "      <th>10364</th>\n",
       "      <td>141501596</td>\n",
       "      <td>5</td>\n",
       "      <td>Loved brown bear 🐻 brown bear 🐻 !</td>\n",
       "      <td>NaN</td>\n",
       "      <td>NaN</td>\n",
       "      <td>True</td>\n",
       "      <td>children</td>\n",
       "    </tr>\n",
       "    <tr>\n",
       "      <th>10429</th>\n",
       "      <td>141501596</td>\n",
       "      <td>5</td>\n",
       "      <td>Great classic</td>\n",
       "      <td>NaN</td>\n",
       "      <td>NaN</td>\n",
       "      <td>True</td>\n",
       "      <td>children</td>\n",
       "    </tr>\n",
       "    <tr>\n",
       "      <th>10479</th>\n",
       "      <td>141501596</td>\n",
       "      <td>5</td>\n",
       "      <td>Great classic</td>\n",
       "      <td>NaN</td>\n",
       "      <td>NaN</td>\n",
       "      <td>True</td>\n",
       "      <td>children</td>\n",
       "    </tr>\n",
       "    <tr>\n",
       "      <th>10718</th>\n",
       "      <td>887431453</td>\n",
       "      <td>5</td>\n",
       "      <td>Learning is loving…</td>\n",
       "      <td>NaN</td>\n",
       "      <td>NaN</td>\n",
       "      <td>True</td>\n",
       "      <td>children</td>\n",
       "    </tr>\n",
       "  </tbody>\n",
       "</table>\n",
       "<p>1776 rows × 7 columns</p>\n",
       "</div>"
      ],
      "text/plain": [
       "      productAsin  ratingScore  \\\n",
       "30      451524934            5   \n",
       "270     451524934            5   \n",
       "280     451524934            5   \n",
       "290     451524934            5   \n",
       "120     451524934            5   \n",
       "...           ...          ...   \n",
       "10359   141501596            5   \n",
       "10364   141501596            5   \n",
       "10429   141501596            5   \n",
       "10479   141501596            5   \n",
       "10718   887431453            5   \n",
       "\n",
       "                                             reviewTitle  \\\n",
       "30     9/11 false flag, Moon Landing hoax, JFK coup d...   \n",
       "270    9/11 false flag, Moon Landing hoax, JFK coup d...   \n",
       "280    9/11 false flag, Moon Landing hoax, JFK coup d...   \n",
       "290    9/11 false flag, Moon Landing hoax, JFK coup d...   \n",
       "120    9/11 false flag, Moon Landing hoax, JFK coup d...   \n",
       "...                                                  ...   \n",
       "10359                                      Great classic   \n",
       "10364                  Loved brown bear 🐻 brown bear 🐻 !   \n",
       "10429                                      Great classic   \n",
       "10479                                      Great classic   \n",
       "10718                                Learning is loving…   \n",
       "\n",
       "                     reviewReaction  \\\n",
       "30     12 people found this helpful   \n",
       "270    12 people found this helpful   \n",
       "280    12 people found this helpful   \n",
       "290    12 people found this helpful   \n",
       "120    12 people found this helpful   \n",
       "...                             ...   \n",
       "10359                           NaN   \n",
       "10364                           NaN   \n",
       "10429                           NaN   \n",
       "10479                           NaN   \n",
       "10718                           NaN   \n",
       "\n",
       "                                       reviewDescription  isVerified  \\\n",
       "30     \" ' How is the dictionary getting on?' Said Wi...        True   \n",
       "270    \" ' How is the dictionary getting on?' Said Wi...        True   \n",
       "280    \" ' How is the dictionary getting on?' Said Wi...        True   \n",
       "290    \" ' How is the dictionary getting on?' Said Wi...        True   \n",
       "120    \" ' How is the dictionary getting on?' Said Wi...        True   \n",
       "...                                                  ...         ...   \n",
       "10359                                                NaN        True   \n",
       "10364                                                NaN        True   \n",
       "10429                                                NaN        True   \n",
       "10479                                                NaN        True   \n",
       "10718                                                NaN        True   \n",
       "\n",
       "                  category  \n",
       "30     humor_entertainment  \n",
       "270    humor_entertainment  \n",
       "280    humor_entertainment  \n",
       "290    humor_entertainment  \n",
       "120    humor_entertainment  \n",
       "...                    ...  \n",
       "10359             children  \n",
       "10364             children  \n",
       "10429             children  \n",
       "10479             children  \n",
       "10718             children  \n",
       "\n",
       "[1776 rows x 7 columns]"
      ]
     },
     "execution_count": 112,
     "metadata": {},
     "output_type": "execute_result"
    }
   ],
   "source": [
    "final_df_list_concatenated = pd.concat(final_df_list, ignore_index = True)\n",
    "duplicates = visualize_duplicates(final_df_list_concatenated)\n",
    "\n",
    "duplicates = duplicates.sort_values(by='reviewDescription')\n",
    "duplicates"
   ]
  },
  {
   "cell_type": "code",
   "execution_count": 113,
   "id": "0ceda92a",
   "metadata": {},
   "outputs": [
    {
     "data": {
      "text/html": [
       "<div>\n",
       "<style scoped>\n",
       "    .dataframe tbody tr th:only-of-type {\n",
       "        vertical-align: middle;\n",
       "    }\n",
       "\n",
       "    .dataframe tbody tr th {\n",
       "        vertical-align: top;\n",
       "    }\n",
       "\n",
       "    .dataframe thead th {\n",
       "        text-align: right;\n",
       "    }\n",
       "</style>\n",
       "<table border=\"1\" class=\"dataframe\">\n",
       "  <thead>\n",
       "    <tr style=\"text-align: right;\">\n",
       "      <th></th>\n",
       "      <th>productAsin</th>\n",
       "      <th>ratingScore</th>\n",
       "      <th>reviewTitle</th>\n",
       "      <th>reviewReaction</th>\n",
       "      <th>reviewDescription</th>\n",
       "      <th>isVerified</th>\n",
       "      <th>category</th>\n",
       "    </tr>\n",
       "  </thead>\n",
       "  <tbody>\n",
       "    <tr>\n",
       "      <th>0</th>\n",
       "      <td>451524934</td>\n",
       "      <td>5</td>\n",
       "      <td>9/11 false flag, Moon Landing hoax, JFK coup d...</td>\n",
       "      <td>12 people found this helpful</td>\n",
       "      <td>\" ' How is the dictionary getting on?' Said Wi...</td>\n",
       "      <td>True</td>\n",
       "      <td>humor_entertainment</td>\n",
       "    </tr>\n",
       "    <tr>\n",
       "      <th>1</th>\n",
       "      <td>451524934</td>\n",
       "      <td>5</td>\n",
       "      <td>Still a “Must read” for anyone’s booklist</td>\n",
       "      <td>NaN</td>\n",
       "      <td>Not a happy or fun read, but still a must beca...</td>\n",
       "      <td>True</td>\n",
       "      <td>humor_entertainment</td>\n",
       "    </tr>\n",
       "    <tr>\n",
       "      <th>2</th>\n",
       "      <td>451524934</td>\n",
       "      <td>5</td>\n",
       "      <td>A book that expresses rebellion &amp; individualism</td>\n",
       "      <td>10 people found this helpful</td>\n",
       "      <td>“Books like Orwell’s are powerful warnings, an...</td>\n",
       "      <td>True</td>\n",
       "      <td>humor_entertainment</td>\n",
       "    </tr>\n",
       "    <tr>\n",
       "      <th>3</th>\n",
       "      <td>451524934</td>\n",
       "      <td>5</td>\n",
       "      <td>Second greatest book ever written?</td>\n",
       "      <td>11 people found this helpful</td>\n",
       "      <td>In short, Mr. Orwell (Blair) was a genius ahea...</td>\n",
       "      <td>True</td>\n",
       "      <td>humor_entertainment</td>\n",
       "    </tr>\n",
       "    <tr>\n",
       "      <th>4</th>\n",
       "      <td>451524934</td>\n",
       "      <td>5</td>\n",
       "      <td>Everyone should read this book.</td>\n",
       "      <td>NaN</td>\n",
       "      <td>Wow… read this in high school and just reread ...</td>\n",
       "      <td>True</td>\n",
       "      <td>humor_entertainment</td>\n",
       "    </tr>\n",
       "    <tr>\n",
       "      <th>...</th>\n",
       "      <td>...</td>\n",
       "      <td>...</td>\n",
       "      <td>...</td>\n",
       "      <td>...</td>\n",
       "      <td>...</td>\n",
       "      <td>...</td>\n",
       "      <td>...</td>\n",
       "    </tr>\n",
       "    <tr>\n",
       "      <th>11005</th>\n",
       "      <td>887431453</td>\n",
       "      <td>4</td>\n",
       "      <td>Great starter book for small toddler my 3yo lo...</td>\n",
       "      <td>NaN</td>\n",
       "      <td>My 3yr old love her learning book so many trac...</td>\n",
       "      <td>True</td>\n",
       "      <td>children</td>\n",
       "    </tr>\n",
       "    <tr>\n",
       "      <th>11006</th>\n",
       "      <td>887431453</td>\n",
       "      <td>4</td>\n",
       "      <td>Too easy for 4 years old</td>\n",
       "      <td>NaN</td>\n",
       "      <td>I like this brand's workbooks, I have been buy...</td>\n",
       "      <td>True</td>\n",
       "      <td>children</td>\n",
       "    </tr>\n",
       "    <tr>\n",
       "      <th>11007</th>\n",
       "      <td>887431453</td>\n",
       "      <td>5</td>\n",
       "      <td>Fantastic book</td>\n",
       "      <td>NaN</td>\n",
       "      <td>All my kids had this book from the 16 year old...</td>\n",
       "      <td>True</td>\n",
       "      <td>children</td>\n",
       "    </tr>\n",
       "    <tr>\n",
       "      <th>11008</th>\n",
       "      <td>887431453</td>\n",
       "      <td>5</td>\n",
       "      <td>Does your child love to \"connect the dots\" - s...</td>\n",
       "      <td>NaN</td>\n",
       "      <td>My daughter requested some \"preschool workbook...</td>\n",
       "      <td>True</td>\n",
       "      <td>children</td>\n",
       "    </tr>\n",
       "    <tr>\n",
       "      <th>11009</th>\n",
       "      <td>887431453</td>\n",
       "      <td>3</td>\n",
       "      <td>One activity</td>\n",
       "      <td>NaN</td>\n",
       "      <td>I was disappointed that all the activities hav...</td>\n",
       "      <td>True</td>\n",
       "      <td>children</td>\n",
       "    </tr>\n",
       "  </tbody>\n",
       "</table>\n",
       "<p>9234 rows × 7 columns</p>\n",
       "</div>"
      ],
      "text/plain": [
       "      productAsin  ratingScore  \\\n",
       "0       451524934            5   \n",
       "1       451524934            5   \n",
       "2       451524934            5   \n",
       "3       451524934            5   \n",
       "4       451524934            5   \n",
       "...           ...          ...   \n",
       "11005   887431453            4   \n",
       "11006   887431453            4   \n",
       "11007   887431453            5   \n",
       "11008   887431453            5   \n",
       "11009   887431453            3   \n",
       "\n",
       "                                             reviewTitle  \\\n",
       "0      9/11 false flag, Moon Landing hoax, JFK coup d...   \n",
       "1              Still a “Must read” for anyone’s booklist   \n",
       "2        A book that expresses rebellion & individualism   \n",
       "3                     Second greatest book ever written?   \n",
       "4                        Everyone should read this book.   \n",
       "...                                                  ...   \n",
       "11005  Great starter book for small toddler my 3yo lo...   \n",
       "11006                           Too easy for 4 years old   \n",
       "11007                                     Fantastic book   \n",
       "11008  Does your child love to \"connect the dots\" - s...   \n",
       "11009                                       One activity   \n",
       "\n",
       "                     reviewReaction  \\\n",
       "0      12 people found this helpful   \n",
       "1                               NaN   \n",
       "2      10 people found this helpful   \n",
       "3      11 people found this helpful   \n",
       "4                               NaN   \n",
       "...                             ...   \n",
       "11005                           NaN   \n",
       "11006                           NaN   \n",
       "11007                           NaN   \n",
       "11008                           NaN   \n",
       "11009                           NaN   \n",
       "\n",
       "                                       reviewDescription  isVerified  \\\n",
       "0      \" ' How is the dictionary getting on?' Said Wi...        True   \n",
       "1      Not a happy or fun read, but still a must beca...        True   \n",
       "2      “Books like Orwell’s are powerful warnings, an...        True   \n",
       "3      In short, Mr. Orwell (Blair) was a genius ahea...        True   \n",
       "4      Wow… read this in high school and just reread ...        True   \n",
       "...                                                  ...         ...   \n",
       "11005  My 3yr old love her learning book so many trac...        True   \n",
       "11006  I like this brand's workbooks, I have been buy...        True   \n",
       "11007  All my kids had this book from the 16 year old...        True   \n",
       "11008  My daughter requested some \"preschool workbook...        True   \n",
       "11009  I was disappointed that all the activities hav...        True   \n",
       "\n",
       "                  category  \n",
       "0      humor_entertainment  \n",
       "1      humor_entertainment  \n",
       "2      humor_entertainment  \n",
       "3      humor_entertainment  \n",
       "4      humor_entertainment  \n",
       "...                    ...  \n",
       "11005             children  \n",
       "11006             children  \n",
       "11007             children  \n",
       "11008             children  \n",
       "11009             children  \n",
       "\n",
       "[9234 rows x 7 columns]"
      ]
     },
     "execution_count": 113,
     "metadata": {},
     "output_type": "execute_result"
    }
   ],
   "source": [
    "final_df_list_concatenated = check_remove_duplicates(final_df_list_concatenated)\n",
    "save_to_csv(final_df_list_concatenated, \"concatenated_duplicates_removed\", None, False)\n",
    "\n",
    "final_df_list_concatenated"
   ]
  },
  {
   "cell_type": "code",
   "execution_count": 114,
   "id": "82af50b1",
   "metadata": {},
   "outputs": [],
   "source": [
    "words = 0\n",
    "for review in final_df_list_concatenated[\"reviewDescription\"]:\n",
    "    words += len(str(review).split())"
   ]
  },
  {
   "cell_type": "markdown",
   "id": "912384e3",
   "metadata": {},
   "source": [
    "# Crawled Data Summary"
   ]
  },
  {
   "cell_type": "code",
   "execution_count": 115,
   "id": "628697c5",
   "metadata": {},
   "outputs": [
    {
     "name": "stdout",
     "output_type": "stream",
     "text": [
      "Number of crawled reviews: 11010\n",
      "Number of removed duplicate reviews: 1776\n",
      "Number of unique reviews: 9234\n",
      "Number of words: 536941\n"
     ]
    }
   ],
   "source": [
    "duplicates_removed = reviews_crawled - len(final_df_list_concatenated)\n",
    "\n",
    "print('Number of crawled reviews: ' + str(reviews_crawled))\n",
    "print('Number of removed duplicate reviews: ' + str(duplicates_removed))\n",
    "print('Number of unique reviews: ' + str(len(final_df_list_concatenated)))\n",
    "print('Number of words: ' + str(words))"
   ]
  },
  {
   "cell_type": "code",
   "execution_count": null,
   "id": "1110220a",
   "metadata": {},
   "outputs": [],
   "source": []
  }
 ],
 "metadata": {
  "kernelspec": {
   "display_name": "Python 3.8.5 ('base')",
   "language": "python",
   "name": "python3"
  },
  "language_info": {
   "codemirror_mode": {
    "name": "ipython",
    "version": 3
   },
   "file_extension": ".py",
   "mimetype": "text/x-python",
   "name": "python",
   "nbconvert_exporter": "python",
   "pygments_lexer": "ipython3",
   "version": "3.8.5"
  },
  "vscode": {
   "interpreter": {
    "hash": "3dca147cc13744c930673d460bfdb00a3aa95331c2e6723149f43a15372a0c88"
   }
  }
 },
 "nbformat": 4,
 "nbformat_minor": 5
}
