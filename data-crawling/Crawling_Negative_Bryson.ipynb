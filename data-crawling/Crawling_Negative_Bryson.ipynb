{
 "cells": [
  {
   "cell_type": "code",
   "execution_count": null,
   "metadata": {},
   "outputs": [],
   "source": [
    "import pandas as pd\n",
    "import os"
   ]
  },
  {
   "cell_type": "markdown",
   "metadata": {},
   "source": [
    "## Helper Functions"
   ]
  },
  {
   "cell_type": "code",
   "execution_count": null,
   "metadata": {},
   "outputs": [],
   "source": [
    "apify_format = [\"productAsin\", \"ratingScore\", \"reviewTitle\",\n",
    "                 \"reviewReaction\", \"reviewDescription\", \"isVerified\"]\n",
    "\n",
    "scrapehero_format = [\"asin\", \"review_rating\", \"review_header\",\n",
    "                 \"no_of_people_reacted_helpful\", \"review_text\", \"badge\"]\n",
    "\n",
    "def alignFormat(data):\n",
    "    data = data[scrapehero_format]\n",
    "\n",
    "    for index, row in data.iterrows():\n",
    "        if row[\"badge\"] == \"Verified Purchase\":\n",
    "            data.at[index,\"badge\"] = \"TRUE\"\n",
    "        else:\n",
    "            data.at[index,\"badge\"] = \"FALSE\"\n",
    "\n",
    "    for i in range(len(apify_format)):\n",
    "        data = data.rename(columns = {scrapehero_format[i]:apify_format[i]})\n",
    "    \n",
    "    return data\n",
    "    \n",
    "def add_column(data, category_name):\n",
    "    if category_name is not None:\n",
    "        category = category_name\n",
    "        category_list = [category]*len(data)\n",
    "        data['category'] = category_list\n",
    "    \n",
    "    return data\n",
    "\n",
    "def check_remove_duplicates(new_data):\n",
    "    has_duplicate = new_data.duplicated(subset=['reviewDescription']).any()\n",
    "    if has_duplicate:\n",
    "        new_data.drop_duplicates(subset=['reviewDescription'], inplace=True)\n",
    "        \n",
    "    return new_data\n",
    "    \n",
    "def visualize_duplicates(data):\n",
    "    duplicates = data[data.duplicated(['reviewDescription'])]\n",
    "    print(\"Visualizing \" + str(len(duplicates)) + \" duplicate reviews:\")\n",
    "\n",
    "    return duplicates\n",
    "\n",
    "def save_to_json(data, json_filename, category_name, export):\n",
    "    new_data = add_column(data, category_name)\n",
    "\n",
    "    if export:\n",
    "        new_data.to_json(json_filename + \".json\")\n",
    "    \n",
    "    return new_data\n",
    "\n",
    "def save_to_csv(data, csv_filename, category_name, export):\n",
    "    new_data = add_column(data, category_name)\n",
    "    \n",
    "    if export:\n",
    "        new_data.to_csv(csv_filename + \".csv\", index=False)\n",
    "    \n",
    "    return new_data"
   ]
  },
  {
   "cell_type": "markdown",
   "metadata": {},
   "source": [
    "# Import negative reviews crawled from ScrapeHero"
   ]
  },
  {
   "cell_type": "code",
   "execution_count": null,
   "metadata": {},
   "outputs": [],
   "source": [
    "# Import configuration\n",
    "dir_path = r'/Users/bryson/Documents/bryson/NTU/modules/CZ4045_NLP/data/negative-reviews'\n",
    "\n",
    "books_csv_file_names = []\n",
    "for path in os.listdir(dir_path):\n",
    "    # check if current path is a file\n",
    "    if os.path.isfile(os.path.join(dir_path, path)):\n",
    "        print(path)\n",
    "        books_csv_file_names.append(path)"
   ]
  },
  {
   "cell_type": "markdown",
   "metadata": {},
   "source": [
    "## Export Settings and Summary Tools"
   ]
  },
  {
   "cell_type": "code",
   "execution_count": null,
   "metadata": {},
   "outputs": [],
   "source": [
    "# Summary and export settings\n",
    "reviews_crawled = 0\n",
    "export_to_csv = False\n",
    "final_df_list = []\n",
    "column_format = [\"productAsin\", \"ratingScore\", \"reviewTitle\",\n",
    "                 \"reviewReaction\", \"reviewDescription\", \"isVerified\", \"category\"]"
   ]
  },
  {
   "cell_type": "markdown",
   "metadata": {},
   "source": [
    "## Crawling from Humor & Entertainment Book Category"
   ]
  },
  {
   "cell_type": "code",
   "execution_count": null,
   "metadata": {},
   "outputs": [],
   "source": [
    "file_name = \"NegativeReviews_HnE_1\"\n",
    "file_extension = \".csv\"\n",
    "book_reviews_df = pd.read_csv(dir_path + '/' + file_name + file_extension)\n",
    "book_reviews_df = alignFormat(book_reviews_df)\n",
    "\n",
    "reviews_crawled += len(book_reviews_df)\n",
    "book_reviews_df = add_column(book_reviews_df, \"humor_entertainment\")\n",
    "final_df_list.append(book_reviews_df[column_format])"
   ]
  },
  {
   "cell_type": "code",
   "execution_count": null,
   "metadata": {},
   "outputs": [],
   "source": [
    "file_name = \"NegativeReviews_HnE_2\"\n",
    "file_extension = \".csv\"\n",
    "book_reviews_df = pd.read_csv(dir_path + '/' + file_name + file_extension)\n",
    "book_reviews_df = alignFormat(book_reviews_df)\n",
    "\n",
    "reviews_crawled += len(book_reviews_df)\n",
    "book_reviews_df = add_column(book_reviews_df, \"humor_entertainment\")\n",
    "final_df_list.append(book_reviews_df[column_format])"
   ]
  },
  {
   "cell_type": "code",
   "execution_count": null,
   "metadata": {},
   "outputs": [],
   "source": [
    "file_name = \"NegativeReviews_HnE_3\"\n",
    "file_extension = \".csv\"\n",
    "book_reviews_df = pd.read_csv(dir_path + '/' + file_name + file_extension)\n",
    "book_reviews_df = alignFormat(book_reviews_df)\n",
    "\n",
    "reviews_crawled += len(book_reviews_df)\n",
    "book_reviews_df = add_column(book_reviews_df, \"humor_entertainment\")\n",
    "final_df_list.append(book_reviews_df[column_format])"
   ]
  },
  {
   "cell_type": "code",
   "execution_count": null,
   "metadata": {},
   "outputs": [],
   "source": [
    "file_name = \"NegativeReviews_HnE_4\"\n",
    "file_extension = \".csv\"\n",
    "book_reviews_df = pd.read_csv(dir_path + '/' + file_name + file_extension)\n",
    "book_reviews_df = alignFormat(book_reviews_df)\n",
    "\n",
    "reviews_crawled += len(book_reviews_df)\n",
    "book_reviews_df = add_column(book_reviews_df, \"humor_entertainment\")\n",
    "final_df_list.append(book_reviews_df[column_format])"
   ]
  },
  {
   "cell_type": "code",
   "execution_count": null,
   "metadata": {},
   "outputs": [],
   "source": [
    "file_name = \"NegativeReviews_HnE_5\"\n",
    "file_extension = \".csv\"\n",
    "book_reviews_df = pd.read_csv(dir_path + '/' + file_name + file_extension)\n",
    "book_reviews_df = alignFormat(book_reviews_df)\n",
    "\n",
    "reviews_crawled += len(book_reviews_df)\n",
    "book_reviews_df = add_column(book_reviews_df, \"humor_entertainment\")\n",
    "final_df_list.append(book_reviews_df[column_format])"
   ]
  },
  {
   "cell_type": "code",
   "execution_count": null,
   "metadata": {},
   "outputs": [],
   "source": [
    "file_name = \"NegativeReviews_HnE_6\"\n",
    "file_extension = \".csv\"\n",
    "book_reviews_df = pd.read_csv(dir_path + '/' + file_name + file_extension)\n",
    "book_reviews_df = alignFormat(book_reviews_df)\n",
    "\n",
    "reviews_crawled += len(book_reviews_df)\n",
    "book_reviews_df = add_column(book_reviews_df, \"humor_entertainment\")\n",
    "final_df_list.append(book_reviews_df[column_format])"
   ]
  },
  {
   "cell_type": "code",
   "execution_count": null,
   "metadata": {},
   "outputs": [],
   "source": [
    "file_name = \"NegativeReviews_HnE_7\"\n",
    "file_extension = \".csv\"\n",
    "book_reviews_df = pd.read_csv(dir_path + '/' + file_name + file_extension)\n",
    "book_reviews_df = alignFormat(book_reviews_df)\n",
    "\n",
    "reviews_crawled += len(book_reviews_df)\n",
    "book_reviews_df = add_column(book_reviews_df, \"humor_entertainment\")\n",
    "final_df_list.append(book_reviews_df[column_format])"
   ]
  },
  {
   "cell_type": "markdown",
   "metadata": {},
   "source": [
    "## Crawling from Children Book Category"
   ]
  },
  {
   "cell_type": "code",
   "execution_count": null,
   "metadata": {},
   "outputs": [],
   "source": [
    "file_name = \"NegativeReviews_Children_1\"\n",
    "file_extension = \".csv\"\n",
    "book_reviews_df = pd.read_csv(dir_path + '/' + file_name + file_extension)\n",
    "book_reviews_df = alignFormat(book_reviews_df)\n",
    "\n",
    "reviews_crawled += len(book_reviews_df)\n",
    "book_reviews_df = add_column(book_reviews_df, \"children\")\n",
    "final_df_list.append(book_reviews_df[column_format])"
   ]
  },
  {
   "cell_type": "code",
   "execution_count": null,
   "metadata": {},
   "outputs": [],
   "source": [
    "file_name = \"NegativeReviews_Children_2\"\n",
    "file_extension = \".csv\"\n",
    "book_reviews_df = pd.read_csv(dir_path + '/' + file_name + file_extension)\n",
    "book_reviews_df = alignFormat(book_reviews_df)\n",
    "\n",
    "reviews_crawled += len(book_reviews_df)\n",
    "book_reviews_df = add_column(book_reviews_df, \"children\")\n",
    "final_df_list.append(book_reviews_df[column_format])"
   ]
  },
  {
   "cell_type": "code",
   "execution_count": null,
   "metadata": {},
   "outputs": [],
   "source": [
    "file_name = \"NegativeReviews_Children_3\"\n",
    "file_extension = \".csv\"\n",
    "book_reviews_df = pd.read_csv(dir_path + '/' + file_name + file_extension)\n",
    "book_reviews_df = alignFormat(book_reviews_df)\n",
    "\n",
    "reviews_crawled += len(book_reviews_df)\n",
    "book_reviews_df = add_column(book_reviews_df, \"children\")\n",
    "final_df_list.append(book_reviews_df[column_format])"
   ]
  },
  {
   "cell_type": "code",
   "execution_count": null,
   "metadata": {},
   "outputs": [],
   "source": [
    "file_name = \"NegativeReviews_Children_4\"\n",
    "file_extension = \".csv\"\n",
    "book_reviews_df = pd.read_csv(dir_path + '/' + file_name + file_extension)\n",
    "book_reviews_df = alignFormat(book_reviews_df)\n",
    "\n",
    "reviews_crawled += len(book_reviews_df)\n",
    "book_reviews_df = add_column(book_reviews_df, \"children\")\n",
    "final_df_list.append(book_reviews_df[column_format])"
   ]
  },
  {
   "cell_type": "code",
   "execution_count": null,
   "metadata": {},
   "outputs": [],
   "source": [
    "file_name = \"NegativeReviews_Children_5\"\n",
    "file_extension = \".csv\"\n",
    "book_reviews_df = pd.read_csv(dir_path + '/' + file_name + file_extension)\n",
    "book_reviews_df = alignFormat(book_reviews_df)\n",
    "\n",
    "reviews_crawled += len(book_reviews_df)\n",
    "book_reviews_df = add_column(book_reviews_df, \"children\")\n",
    "final_df_list.append(book_reviews_df[column_format])"
   ]
  },
  {
   "cell_type": "code",
   "execution_count": null,
   "metadata": {},
   "outputs": [],
   "source": [
    "file_name = \"NegativeReviews_Children_6\"\n",
    "file_extension = \".csv\"\n",
    "book_reviews_df = pd.read_csv(dir_path + '/' + file_name + file_extension)\n",
    "book_reviews_df = alignFormat(book_reviews_df)\n",
    "\n",
    "reviews_crawled += len(book_reviews_df)\n",
    "book_reviews_df = add_column(book_reviews_df, \"children\")\n",
    "final_df_list.append(book_reviews_df[column_format])"
   ]
  },
  {
   "cell_type": "code",
   "execution_count": null,
   "metadata": {},
   "outputs": [],
   "source": [
    "file_name = \"NegativeReviews_Children_7\"\n",
    "file_extension = \".csv\"\n",
    "book_reviews_df = pd.read_csv(dir_path + '/' + file_name + file_extension)\n",
    "book_reviews_df = alignFormat(book_reviews_df)\n",
    "\n",
    "reviews_crawled += len(book_reviews_df)\n",
    "book_reviews_df = add_column(book_reviews_df, \"children\")\n",
    "final_df_list.append(book_reviews_df[column_format])"
   ]
  },
  {
   "cell_type": "markdown",
   "metadata": {},
   "source": [
    "## Crawling from Mystery Book Category"
   ]
  },
  {
   "cell_type": "code",
   "execution_count": null,
   "metadata": {},
   "outputs": [],
   "source": [
    "file_name = \"NegativeReviews_Mystery_1\"\n",
    "file_extension = \".csv\"\n",
    "book_reviews_df = pd.read_csv(dir_path + '/' + file_name + file_extension)\n",
    "book_reviews_df = alignFormat(book_reviews_df)\n",
    "\n",
    "reviews_crawled += len(book_reviews_df)\n",
    "book_reviews_df = add_column(book_reviews_df, \"children\")\n",
    "final_df_list.append(book_reviews_df[column_format])"
   ]
  },
  {
   "cell_type": "code",
   "execution_count": null,
   "metadata": {},
   "outputs": [],
   "source": [
    "file_name = \"NegativeReviews_Mystery_2\"\n",
    "file_extension = \".csv\"\n",
    "book_reviews_df = pd.read_csv(dir_path + '/' + file_name + file_extension)\n",
    "book_reviews_df = alignFormat(book_reviews_df)\n",
    "\n",
    "reviews_crawled += len(book_reviews_df)\n",
    "book_reviews_df = add_column(book_reviews_df, \"children\")\n",
    "final_df_list.append(book_reviews_df[column_format])"
   ]
  },
  {
   "cell_type": "code",
   "execution_count": null,
   "metadata": {},
   "outputs": [],
   "source": [
    "file_name = \"NegativeReviews_Mystery_3\"\n",
    "file_extension = \".csv\"\n",
    "book_reviews_df = pd.read_csv(dir_path + '/' + file_name + file_extension)\n",
    "book_reviews_df = alignFormat(book_reviews_df)\n",
    "\n",
    "reviews_crawled += len(book_reviews_df)\n",
    "book_reviews_df = add_column(book_reviews_df, \"children\")\n",
    "final_df_list.append(book_reviews_df[column_format])"
   ]
  },
  {
   "cell_type": "markdown",
   "metadata": {},
   "source": [
    "## Crawling from Romance Book Category"
   ]
  },
  {
   "cell_type": "code",
   "execution_count": null,
   "metadata": {},
   "outputs": [],
   "source": [
    "file_name = \"NegativeReviews_Romance_1\"\n",
    "file_extension = \".csv\"\n",
    "book_reviews_df = pd.read_csv(dir_path + '/' + file_name + file_extension)\n",
    "book_reviews_df = alignFormat(book_reviews_df)\n",
    "\n",
    "reviews_crawled += len(book_reviews_df)\n",
    "book_reviews_df = add_column(book_reviews_df, \"children\")\n",
    "final_df_list.append(book_reviews_df[column_format])"
   ]
  },
  {
   "cell_type": "code",
   "execution_count": null,
   "metadata": {},
   "outputs": [],
   "source": [
    "file_name = \"NegativeReviews_Romance_2\"\n",
    "file_extension = \".csv\"\n",
    "book_reviews_df = pd.read_csv(dir_path + '/' + file_name + file_extension)\n",
    "book_reviews_df = alignFormat(book_reviews_df)\n",
    "\n",
    "reviews_crawled += len(book_reviews_df)\n",
    "book_reviews_df = add_column(book_reviews_df, \"children\")\n",
    "final_df_list.append(book_reviews_df[column_format])"
   ]
  },
  {
   "cell_type": "code",
   "execution_count": null,
   "metadata": {},
   "outputs": [],
   "source": [
    "file_name = \"NegativeReviews_Romance_3\"\n",
    "file_extension = \".csv\"\n",
    "book_reviews_df = pd.read_csv(dir_path + '/' + file_name + file_extension)\n",
    "book_reviews_df = alignFormat(book_reviews_df)\n",
    "\n",
    "reviews_crawled += len(book_reviews_df)\n",
    "book_reviews_df = add_column(book_reviews_df, \"children\")\n",
    "final_df_list.append(book_reviews_df[column_format])"
   ]
  },
  {
   "cell_type": "code",
   "execution_count": null,
   "metadata": {},
   "outputs": [],
   "source": [
    "file_name = \"NegativeReviews_Romance_4\"\n",
    "file_extension = \".csv\"\n",
    "book_reviews_df = pd.read_csv(dir_path + '/' + file_name + file_extension)\n",
    "book_reviews_df = alignFormat(book_reviews_df)\n",
    "\n",
    "reviews_crawled += len(book_reviews_df)\n",
    "book_reviews_df = add_column(book_reviews_df, \"children\")\n",
    "final_df_list.append(book_reviews_df[column_format])"
   ]
  },
  {
   "cell_type": "code",
   "execution_count": null,
   "metadata": {},
   "outputs": [],
   "source": [
    "file_name = \"NegativeReviews_Romance_5\"\n",
    "file_extension = \".csv\"\n",
    "book_reviews_df = pd.read_csv(dir_path + '/' + file_name + file_extension)\n",
    "book_reviews_df = alignFormat(book_reviews_df)\n",
    "\n",
    "reviews_crawled += len(book_reviews_df)\n",
    "book_reviews_df = add_column(book_reviews_df, \"children\")\n",
    "final_df_list.append(book_reviews_df[column_format])"
   ]
  },
  {
   "cell_type": "code",
   "execution_count": null,
   "metadata": {},
   "outputs": [],
   "source": [
    "file_name = \"NegativeReviews_Romance_6\"\n",
    "file_extension = \".csv\"\n",
    "book_reviews_df = pd.read_csv(dir_path + '/' + file_name + file_extension)\n",
    "book_reviews_df = alignFormat(book_reviews_df)\n",
    "\n",
    "reviews_crawled += len(book_reviews_df)\n",
    "book_reviews_df = add_column(book_reviews_df, \"children\")\n",
    "final_df_list.append(book_reviews_df[column_format])"
   ]
  },
  {
   "cell_type": "code",
   "execution_count": null,
   "metadata": {},
   "outputs": [],
   "source": [
    "file_name = \"NegativeReviews_Romance_7\"\n",
    "file_extension = \".csv\"\n",
    "book_reviews_df = pd.read_csv(dir_path + '/' + file_name + file_extension)\n",
    "book_reviews_df = alignFormat(book_reviews_df)\n",
    "\n",
    "reviews_crawled += len(book_reviews_df)\n",
    "book_reviews_df = add_column(book_reviews_df, \"children\")\n",
    "final_df_list.append(book_reviews_df[column_format])"
   ]
  },
  {
   "cell_type": "code",
   "execution_count": null,
   "metadata": {},
   "outputs": [],
   "source": [
    "file_name = \"NegativeReviews_Romance_8\"\n",
    "file_extension = \".csv\"\n",
    "book_reviews_df = pd.read_csv(dir_path + '/' + file_name + file_extension)\n",
    "book_reviews_df = alignFormat(book_reviews_df)\n",
    "\n",
    "reviews_crawled += len(book_reviews_df)\n",
    "book_reviews_df = add_column(book_reviews_df, \"children\")\n",
    "final_df_list.append(book_reviews_df[column_format])"
   ]
  },
  {
   "cell_type": "markdown",
   "metadata": {},
   "source": [
    "# Concatenate datas and remove duplicates"
   ]
  },
  {
   "cell_type": "code",
   "execution_count": null,
   "metadata": {},
   "outputs": [],
   "source": [
    "final_df_list_concatenated = pd.concat(final_df_list, ignore_index = True)\n",
    "duplicates = visualize_duplicates(final_df_list_concatenated)\n",
    "\n",
    "duplicates = duplicates.sort_values(by='reviewDescription')\n",
    "duplicates"
   ]
  },
  {
   "cell_type": "code",
   "execution_count": null,
   "metadata": {},
   "outputs": [],
   "source": [
    "final_df_list_concatenated = check_remove_duplicates(final_df_list_concatenated)\n",
    "save_to_csv(final_df_list_concatenated, \"final_books_dataset_duplicates_removed_negative\", None, True)\n",
    "\n",
    "final_df_list_concatenated"
   ]
  },
  {
   "cell_type": "code",
   "execution_count": null,
   "metadata": {},
   "outputs": [],
   "source": [
    "words = 0\n",
    "for review in final_df_list_concatenated[\"reviewDescription\"]:\n",
    "    words += len(str(review).split())"
   ]
  },
  {
   "cell_type": "markdown",
   "metadata": {},
   "source": [
    "# Crawled Negative Data Summary"
   ]
  },
  {
   "cell_type": "code",
   "execution_count": null,
   "metadata": {},
   "outputs": [],
   "source": [
    "duplicates_removed = reviews_crawled - len(final_df_list_concatenated)\n",
    "\n",
    "print('Number of crawled reviews: ' + str(reviews_crawled))\n",
    "print('Number of removed duplicate reviews: ' + str(duplicates_removed))\n",
    "print('Number of unique negative reviews: ' + str(len(final_df_list_concatenated)))\n",
    "print('Number of words: ' + str(words))"
   ]
  }
 ],
 "metadata": {
  "kernelspec": {
   "display_name": "Python 3.8.5 ('base')",
   "language": "python",
   "name": "python3"
  },
  "language_info": {
   "codemirror_mode": {
    "name": "ipython",
    "version": 3
   },
   "file_extension": ".py",
   "mimetype": "text/x-python",
   "name": "python",
   "nbconvert_exporter": "python",
   "pygments_lexer": "ipython3",
   "version": "3.8.5"
  },
  "orig_nbformat": 4,
  "vscode": {
   "interpreter": {
    "hash": "3dca147cc13744c930673d460bfdb00a3aa95331c2e6723149f43a15372a0c88"
   }
  }
 },
 "nbformat": 4,
 "nbformat_minor": 2
}
