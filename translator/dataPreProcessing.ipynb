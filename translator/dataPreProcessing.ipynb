{
 "cells": [
  {
   "cell_type": "markdown",
   "source": [],
   "metadata": {
    "collapsed": false
   }
  },
  {
   "cell_type": "markdown",
   "source": [
    "# test.csv all translte fail LOL might due to mix language\n",
    "### rmb to change path"
   ],
   "metadata": {
    "collapsed": false
   }
  },
  {
   "cell_type": "code",
   "execution_count": null,
   "outputs": [],
   "source": [
    "import pandas as pd\n",
    "\n",
    "df = pd.read_csv (r'/Users/nikomii/Documents/CZ4045/4045NLP/NLP_Project_Group12_data/csv_file/test.csv')"
   ],
   "metadata": {
    "collapsed": false
   }
  },
  {
   "cell_type": "code",
   "execution_count": 60,
   "outputs": [
    {
     "data": {
      "text/plain": "1825"
     },
     "execution_count": 60,
     "metadata": {},
     "output_type": "execute_result"
    }
   ],
   "source": [
    "df.shape[0]"
   ],
   "metadata": {
    "collapsed": false
   }
  },
  {
   "cell_type": "markdown",
   "source": [
    "todo a_reviewer_location --> Failed --> NA\n",
    "get rid of non-english comment\n",
    "use langdetect to detect language (1. delete non-english comment | 2. translate non-english comments to english) * textblob get bad request 400 googletrans also\n",
    "\n",
    "langdetect to detect language\n",
    "textblob to translate\n",
    "\n",
    "https://towardsdatascience.com/4-python-libraries-to-detect-english-and-non-english-language-c82ad3efd430\n",
    "\n",
    "ie.\n",
    ">>> from textblob import TextBlob\n",
    ">>> text = \"это компьютерный портал для гиков. It was a beautiful day .\"\n",
    ">>> lang = TextBlob(text)\n",
    ">>> print(lang.detect_language())\n",
    "ru"
   ],
   "metadata": {
    "collapsed": false
   }
  },
  {
   "cell_type": "code",
   "execution_count": 61,
   "outputs": [
    {
     "data": {
      "text/plain": "                                          reviewTitle  \\\n0                                           Good item   \n1                                     Great Series 👍🏻   \n2                                      Engaging Story   \n3                              Reading is fundamental   \n4                 perfect gift for my new grand-baby!   \n5                                 so nice and helpful   \n6                                             Amazing   \n7          Great gift for your Dave Grohl super fans.   \n8   I enjoyed this writer and am eager to read mor...   \n9                                            AMAZING!   \n10                                        Page Turner   \n11                            Everyone should get one   \n12                   Blake Pierce again at his finest   \n13  Very Appropriate for Yoday's Political Environ...   \n14  Enjoying it and will re read again and recomme...   \n15                                               Real   \n16                                       Disappointed   \n17                                           Touching   \n18                                                  G   \n19                                         Cute story   \n20                                            PERFECT   \n21                                        GREAT BOOK!   \n22                                Good Preschool Book   \n23  LOVE fill journals, this one is in my top 3 of...   \n24                                   Thank you tiktok   \n25                                         Meandering   \n26                                         Great deal   \n27                                Quite well written.   \n28                                     El mejor libro   \n29                                        Great books   \n\n                                    reviewDescription  \n0                                           Good item  \n1   Absolutely wonderful book series! I ordered th...  \n2   Before You Go is an engaging read with a weave...  \n3                        My grandson loves this story  \n4   Beautifully illustrated, with healthy & empowe...  \n5                                     My kids love it  \n6   I loved the cover, hard cover and excellent qu...  \n7   My wife is a super fan and was so happy to rec...  \n8   Intense story line that pulls you in and keep ...  \n9   This book is AMAZING! Perfect way to build a c...  \n10  This is an incredibly told story! The clues ar...  \n11  This is something I randomly found on tiktok. ...  \n12  Kate Wise, retired FBI Agent, is bored. Widowe...  \n13  I found it to be a very good read with many li...  \n14  Have always wanted to read this book. I am sor...  \n15  I like the way he writes. It makes you feel li...  \n16                                        Predictable  \n17  We read this heartfelt book on the first day o...  \n18  Good read.  I would recommend this book.  Kept...  \n19  I enjoyed the book but it is not in my top fav...  \n20  came perfectly in the mail and it it the right...  \n21  Would buy again and would be a great gift for ...  \n22  My daughter and I worked with this preschool w...  \n23  I’ve been using and holding onto fill in journ...  \n24  Bought it cause I thought it would be interest...  \n25  This book lead you in many directions and gave...  \n26  The book is in great shape, as to be expected ...  \n27  No 'unbelievable' characters. Not in too much ...  \n28  El libro que no debe faltar en tu casa, para t...  \n29  My great nephew loves his books and he just tu...  ",
      "text/html": "<div>\n<style scoped>\n    .dataframe tbody tr th:only-of-type {\n        vertical-align: middle;\n    }\n\n    .dataframe tbody tr th {\n        vertical-align: top;\n    }\n\n    .dataframe thead th {\n        text-align: right;\n    }\n</style>\n<table border=\"1\" class=\"dataframe\">\n  <thead>\n    <tr style=\"text-align: right;\">\n      <th></th>\n      <th>reviewTitle</th>\n      <th>reviewDescription</th>\n    </tr>\n  </thead>\n  <tbody>\n    <tr>\n      <th>0</th>\n      <td>Good item</td>\n      <td>Good item</td>\n    </tr>\n    <tr>\n      <th>1</th>\n      <td>Great Series 👍🏻</td>\n      <td>Absolutely wonderful book series! I ordered th...</td>\n    </tr>\n    <tr>\n      <th>2</th>\n      <td>Engaging Story</td>\n      <td>Before You Go is an engaging read with a weave...</td>\n    </tr>\n    <tr>\n      <th>3</th>\n      <td>Reading is fundamental</td>\n      <td>My grandson loves this story</td>\n    </tr>\n    <tr>\n      <th>4</th>\n      <td>perfect gift for my new grand-baby!</td>\n      <td>Beautifully illustrated, with healthy &amp; empowe...</td>\n    </tr>\n    <tr>\n      <th>5</th>\n      <td>so nice and helpful</td>\n      <td>My kids love it</td>\n    </tr>\n    <tr>\n      <th>6</th>\n      <td>Amazing</td>\n      <td>I loved the cover, hard cover and excellent qu...</td>\n    </tr>\n    <tr>\n      <th>7</th>\n      <td>Great gift for your Dave Grohl super fans.</td>\n      <td>My wife is a super fan and was so happy to rec...</td>\n    </tr>\n    <tr>\n      <th>8</th>\n      <td>I enjoyed this writer and am eager to read mor...</td>\n      <td>Intense story line that pulls you in and keep ...</td>\n    </tr>\n    <tr>\n      <th>9</th>\n      <td>AMAZING!</td>\n      <td>This book is AMAZING! Perfect way to build a c...</td>\n    </tr>\n    <tr>\n      <th>10</th>\n      <td>Page Turner</td>\n      <td>This is an incredibly told story! The clues ar...</td>\n    </tr>\n    <tr>\n      <th>11</th>\n      <td>Everyone should get one</td>\n      <td>This is something I randomly found on tiktok. ...</td>\n    </tr>\n    <tr>\n      <th>12</th>\n      <td>Blake Pierce again at his finest</td>\n      <td>Kate Wise, retired FBI Agent, is bored. Widowe...</td>\n    </tr>\n    <tr>\n      <th>13</th>\n      <td>Very Appropriate for Yoday's Political Environ...</td>\n      <td>I found it to be a very good read with many li...</td>\n    </tr>\n    <tr>\n      <th>14</th>\n      <td>Enjoying it and will re read again and recomme...</td>\n      <td>Have always wanted to read this book. I am sor...</td>\n    </tr>\n    <tr>\n      <th>15</th>\n      <td>Real</td>\n      <td>I like the way he writes. It makes you feel li...</td>\n    </tr>\n    <tr>\n      <th>16</th>\n      <td>Disappointed</td>\n      <td>Predictable</td>\n    </tr>\n    <tr>\n      <th>17</th>\n      <td>Touching</td>\n      <td>We read this heartfelt book on the first day o...</td>\n    </tr>\n    <tr>\n      <th>18</th>\n      <td>G</td>\n      <td>Good read.  I would recommend this book.  Kept...</td>\n    </tr>\n    <tr>\n      <th>19</th>\n      <td>Cute story</td>\n      <td>I enjoyed the book but it is not in my top fav...</td>\n    </tr>\n    <tr>\n      <th>20</th>\n      <td>PERFECT</td>\n      <td>came perfectly in the mail and it it the right...</td>\n    </tr>\n    <tr>\n      <th>21</th>\n      <td>GREAT BOOK!</td>\n      <td>Would buy again and would be a great gift for ...</td>\n    </tr>\n    <tr>\n      <th>22</th>\n      <td>Good Preschool Book</td>\n      <td>My daughter and I worked with this preschool w...</td>\n    </tr>\n    <tr>\n      <th>23</th>\n      <td>LOVE fill journals, this one is in my top 3 of...</td>\n      <td>I’ve been using and holding onto fill in journ...</td>\n    </tr>\n    <tr>\n      <th>24</th>\n      <td>Thank you tiktok</td>\n      <td>Bought it cause I thought it would be interest...</td>\n    </tr>\n    <tr>\n      <th>25</th>\n      <td>Meandering</td>\n      <td>This book lead you in many directions and gave...</td>\n    </tr>\n    <tr>\n      <th>26</th>\n      <td>Great deal</td>\n      <td>The book is in great shape, as to be expected ...</td>\n    </tr>\n    <tr>\n      <th>27</th>\n      <td>Quite well written.</td>\n      <td>No 'unbelievable' characters. Not in too much ...</td>\n    </tr>\n    <tr>\n      <th>28</th>\n      <td>El mejor libro</td>\n      <td>El libro que no debe faltar en tu casa, para t...</td>\n    </tr>\n    <tr>\n      <th>29</th>\n      <td>Great books</td>\n      <td>My great nephew loves his books and he just tu...</td>\n    </tr>\n  </tbody>\n</table>\n</div>"
     },
     "execution_count": 61,
     "metadata": {},
     "output_type": "execute_result"
    }
   ],
   "source": [
    "# ------------------- prod here ------------------- #\n",
    "\n",
    "from textblob import TextBlob\n",
    "from langdetect import detect\n",
    "\n",
    "# Iterate over column to check each comment\n",
    "\n",
    "df_review = pd.DataFrame(df[[\"reviewTitle\",\"reviewDescription\"]])\n",
    "df_translated = df_review\n",
    "df_deleted = df_review\n",
    "df_ = df.copy()\n",
    "indexList = []\n",
    "translatedDict = {}\n",
    "\n",
    "df_review.head(30)"
   ],
   "metadata": {
    "collapsed": false
   }
  },
  {
   "cell_type": "code",
   "execution_count": 62,
   "outputs": [],
   "source": [
    "import re\n",
    "\n",
    "only_digit = \"^[ 0-9]+$\""
   ],
   "metadata": {
    "collapsed": false
   }
  },
  {
   "cell_type": "code",
   "execution_count": 63,
   "outputs": [
    {
     "name": "stdout",
     "output_type": "stream",
     "text": [
      "5 title:  so nice and helpful , description:  My kids love it\n",
      "translate error!\n",
      "28 title:  El mejor libro , description:  El libro que no debe faltar en tu casa, para tu hijo, y en tu salon de clase para tus estudiantes\n",
      "translate error!\n",
      "61 title:  The Propsal, fast & fun read , description:  Fun read\n",
      "translate error!\n",
      "94 title:  Book was better than the movie , description:  Great book, great movie\n",
      "translate error!\n",
      "149 title:  weethoughtoutplot,enjoyableread , description:  I enjoyedtheplot\n",
      "translate error!\n",
      "219 title:  Cute story , description:  Super cute!!!\n",
      "translate error!\n",
      "220 title:  Our class is a family , description:  I did not like the middleIt was kind of boringI did like the beginning and endThe book was ok\n",
      "translate error!\n",
      "297 title:  Good reading! , description:  Great book!\n",
      "translate error!\n",
      "322 title:  NICE , description:  NICE\n",
      "translate error!\n",
      "325 title:  I love it , description:  I love it\n",
      "translate error!\n",
      "385 title:  Historia de todos los tiempos , description:  Este libro no pasa de moda, increíble que en el año 2022 todavía siga estando tan vigente y tan posible.\n",
      "translate error!\n",
      "391 title:  Muss jeder mal lese , description:  Meiner Meinung nach sollte jeder das Buch in seinem Leben mal Gelsen haben. Ich hätte niemals erwartet was am Ende passiert hat mich so aus der Reihe gebracht. Bin so glücklich das Buch gelesen zu haben. Ich habe am Ende sehr viel geweint ich fande deren Freundschaft sehr schön so einen besten Freund/ Freund braucht jeder.\n",
      "translate error!\n",
      "415 title:  Beach Read surpreendeu em todos os aspectos , description:  Beach Read frequentou as listas de melhores publicações de 2020 e me surpreendeu em todos os aspectos: a capa da edição Kindle é linda e leva a crer que se trata de um romance contemporâneo/comédia romântica mas o livro ultrapassa esse conceito e fica mais para um mix de romance/Women fiction.Não é uma obra fácil nos capítulos iniciais, meio lentos e que não trazem uma conexão imediata com a personagem principal, January e sua vida. Mas esse começo “mais trabalhoso” para o leitor é totalmente compensado pelo tema central e o desenvolvimento da trama. A estória é contada sob o ponto de vista da protagonista January, uma jovem escritora que passa por uma crise pessoal após a perda do pai.Nesse momento penoso de sua vida, January acaba sendo vizinha de Gus (o seu nemesis do período de college). E esse relacionamento de amor-e-ódio vai, aos poucos se transformar em amizade-amor.Se para mim January sozinha não funcionou satisfatoriamente, January e Gus formam um casal perfeito. Suas personalidades diferentes acabam se revelando complementares e suas estórias de vida, aparentemente tão contrastantes se mostram muitíssimo similares.Este sumário definitivamente não faz justiça à qualidade de Beach Read. Romance, humor, emoção, está tudo aqui. E também alguns temas mais sérios e pesados, tudo equilibrado com sensibilidade pela autora numa prosa deliciosa, muitas vezes leve e romântica.Recomendadíssimo, mas não se deixe enganar pela capa engraçadinha. Beach Read vai muito além da comédia romântica.\n",
      "translate error!\n",
      "468 title:  Good product , description:  Good book...\n",
      "translate error!\n",
      "534 title:  Love , description:  Kids love it\n",
      "translate error!\n",
      "665 title:  Great , description:  Love it\n",
      "translate error!\n",
      "684 title:  beach read avaliação , description:  Assim… não me arrependo de ter lido, mas tem que ter uma paciência de jesus cristo. Agora que eu terminei penso que valeu super a pena e que amei o livro, mas dai lembro do sufoco que foi ler alguns capítulos. Achei super overrated e fiquei um pouco decepcionada, além disso o livro só começa a ficar interessante na página 150 (de 358) e mesmo assim não me deixou muito presa na história. A January é insuportável, porém a dinâmica do casal é TUDO e o Gus é meu dream boyfriend. Se não deu pra perceber, ele salvou o livro. Augustus Everett eu te amo. (inglês bem fácil)\n",
      "translate error!\n",
      "719 title:  Fun read! , description:  Fun read!\n",
      "translate error!\n",
      "721 title:  Reseña , description:  «Encajaba tan perfectamente con la historia de amor que me había imaginado que lo confundí con el amor de mi vida.»Después del #BlackHistoyJuly me apetecía desconectar unos días de las redes sociales, tumbarme al sol y leer un libro de verano. Uno de esos un poco romanticones, pero no demasiado (yo y el romance nos llevamos a medias) que te haga pasar el rato y disfrutar de no hacer nada más que leer.Bien, pues este es el libro perfecto para ello. Sí, está lleno de clichés. Sí, es obvio que se van a acabar enamorando. Sí, vienen los dos de un pasado oscuro del que necesitan que alguien les salve. Si a todo, pero está bien escrita, te entretiene y te hace pasar el rato sin pensar en nada más que en el libro que estás leyendo. Para mi eso es lo que le pido a este tipo de libros de verano de desconexión. Cumple con su propósito y la narración es más que decente. Hay que saber lo que se lee, cuándo se lee y para qué se lee y este libro fue perfecto para el momento.\n",
      "translate error!\n",
      "784 title:  Buen libro detectivesco , description:  No me gustó mucho el final, muy simple, lo resolvieron, el caso en 3 páginas, debieron elaborar más la resolución\n",
      "translate error!\n",
      "807 title:  My son loves it , description:  Great book ever\n",
      "translate error!\n",
      "863 title:  Härlig bok , description:  Den perfekta sommar boken, det är en jätte mysig bok! Jag gillar verkligen Emily Henrys böcker och jag skulle verkligen rekommendera att läsa dom!\n",
      "translate error!\n",
      "935 title:  A mi esposa le gusto mucho , description:  Recomendado\n",
      "translate error!\n",
      "1057 title:  Great FBI thriller , description:  Love book series.\n",
      "translate error!\n",
      "1058 title:  Four Stars , description:  Great book!!\n",
      "translate error!\n",
      "1180 title:  Best book , description:  É um dos meus livros preferidos, é daqueles livros que se fica com o coração apertadinho. Mas adoro este livro. Recomendo vivamente\n",
      "translate error!\n",
      "1321 title:  Buen producto, pero... , description:  Excelente manual y en español. Pero el problema es que viene golpeado y sin ningún tipo de protección por lo que llega dañado.\n",
      "translate error!\n",
      "1378 title:  Muy bueno , description:  Fue un regalo\n",
      "translate error!\n",
      "1444 title:  Fácil y practico , description:  Muy bueno para q mi nieto aprenda  a transar las letras y números\n",
      "translate error!\n",
      "1446 title:  Absolutely loved it! , description:  Super cute read\n",
      "translate error!\n",
      "1507 title:  Not that well written , description:  Not very good book.\n",
      "translate error!\n",
      "1738 title:  One yr olds favorite book! , description:  Adorable!!\n",
      "translate error!\n",
      "1798 title:  Love , description:  So cute\n",
      "translate error!\n"
     ]
    },
    {
     "data": {
      "text/plain": "1792"
     },
     "execution_count": 63,
     "metadata": {},
     "output_type": "execute_result"
    }
   ],
   "source": [
    "for i in range(len(df_review)):\n",
    "\n",
    "    text_title = df_review.at[i,'reviewTitle']\n",
    "    text_description = df_review.at[i,'reviewDescription']\n",
    "\n",
    "    lang_title = TextBlob(text_title)\n",
    "    lang_description = TextBlob(text_description)\n",
    "\n",
    "    # check if only digit and space\n",
    "    is_invalid_title =bool(re.search(only_digit,text_title))\n",
    "    is_invalid_description = bool(re.search(only_digit,text_description))\n",
    "\n",
    "# ------------------- delete ------------------- #\n",
    "\n",
    "    # if detect(text) != 'en':\n",
    "    #     df_deleted.drop(index = i, inplace=True)\n",
    "    #     df_uss_DF.drop(index = i, inplace=True)\n",
    "\n",
    "\n",
    "# ------------------- translate ------------------- #\n",
    "\n",
    "\n",
    "    try:\n",
    "        if  detect(text_description) != 'en':\n",
    "            blob_title = lang_title\n",
    "            blob_description = lang_description\n",
    "\n",
    "            isEngTitle = detect(text_title) == 'en'\n",
    "            isEngDescription = detect(text_description) == 'en'\n",
    "\n",
    "            print(i , \"title: \",  str(text_title) , \", description: \" , str(text_description))\n",
    "            try:\n",
    "                #translatedDict[i] = str(blob.translate(to='en'))\n",
    "                if detect(text_title) != 'en':\n",
    "                    try:\n",
    "                        df_translated.at[i,'reviewTitle'] = str(blob_title.translate(to='en'))\n",
    "                        print(\"translate to: \", df_translated.at[i,'reviewTitle'])\n",
    "                        print(\"translate title success!\")\n",
    "                    except:\n",
    "                        print(\"translate error!\")\n",
    "                        df_translated.drop(index = i, inplace=True)\n",
    "                        df_.drop(index = i, inplace=True)\n",
    "                        continue;\n",
    "\n",
    "                if(detect(text_description) != 'en'):\n",
    "                    try:\n",
    "                        df_translated.loc[i].reviewDescription = str(blob_reviewer.translate(to='en'))\n",
    "                        print(\"translate to : \", df_translated.at[i,'reviewDescription'])\n",
    "                        print(\"translate description success!\")\n",
    "                    except:\n",
    "                        print(\"translate error!\")\n",
    "                        df_translated.drop(index = i, inplace=True)\n",
    "                        df_.drop(index = i, inplace=True)\n",
    "                        continue;\n",
    "\n",
    "                df_translated.loc[i].reviewDescription = str(blob.translate(to='en'))\n",
    "\n",
    "                # df_translated.at[i,'a_title_comment'] = str(blob_title.translate(to='en'))\n",
    "                # df_translated.at[i,'a_reviewer_name'] = str(blob_reviewer.translate(to='en'))\n",
    "\n",
    "                print(\"translate success!\")\n",
    "\n",
    "            except:\n",
    "                # drop the error index\n",
    "                print(\"translate error!\")\n",
    "                df_translated.drop(index = i, inplace=True)\n",
    "                df_.drop(index = i, inplace=True)\n",
    "    except:\n",
    "        print(\"detect errorfor: \", df_review.loc[i])\n",
    "        df_translated.drop(index = i, inplace=True)\n",
    "        df_.drop(index = i, inplace=True)\n",
    "        continue;\n",
    "#\n",
    "# ------------------- translate ------------------- #\n",
    "df_translated_ = df_\n",
    "\n",
    "df_translated_['reviewTitle'] = df_translated['reviewTitle']\n",
    "df_translated_['reviewDescription'] = df_translated['reviewDescription']\n",
    "#\n",
    "# # save to csv\n",
    "df_translated_.to_csv (r'/Users/nikomii/Documents/CZ4045/4045NLP/NLP_Project_Group12_data/csv_translated/test.csv', index = False, header = True)\n",
    "\n",
    "df_translated_.shape[0]\n",
    "\n",
    "# ------------------- delete ------------------- #\n",
    "# df_uss_deleted = df_uss_DF\n",
    "# df_uss_deleted['a_content_comment'] = df_deleted['a_content_comment']\n",
    "\n",
    "# save to csv\n",
    "# df_uss_deleted.to_csv (r'/Users/nikomii/Documents/CZ4034/Indexing/df_uss_deleted.csv', index = False, header = True)"
   ],
   "metadata": {
    "collapsed": false
   }
  },
  {
   "cell_type": "code",
   "execution_count": 64,
   "outputs": [
    {
     "data": {
      "text/plain": "      Unnamed: 0 productAsin  ratingScore  \\\n0           5542   670062510            4   \n1           7993  1484707230            5   \n2          10900  1542046599            5   \n3           7758  1589255518            5   \n4           4837   385376715            5   \n...          ...         ...          ...   \n1820       11284  1542046599            5   \n1821       11964  1542046599            5   \n1822        5390   670062510            5   \n1823         860  B01IW9TM5O            5   \n1824       15795  1984806734            5   \n\n                                   reviewTitle                reviewReaction  \\\n0                                    Good item                           NaN   \n1                              Great Series 👍🏻                           NaN   \n2                               Engaging Story                           NaN   \n3                       Reading is fundamental                           NaN   \n4          perfect gift for my new grand-baby!  11 people found this helpful   \n...                                        ...                           ...   \n1820                          Kept me guessing                           NaN   \n1821                           Compelling read                           NaN   \n1822                  One of the true classics                           NaN   \n1823  Perfectly blends comedy with real issues                           NaN   \n1824                    This book was adorable                           NaN   \n\n                                      reviewDescription  isVerified  \\\n0                                             Good item        True   \n1     Absolutely wonderful book series! I ordered th...        True   \n2     Before You Go is an engaging read with a weave...        True   \n3                          My grandson loves this story        True   \n4     Beautifully illustrated, with healthy & empowe...        True   \n...                                                 ...         ...   \n1820  Well written mystery, so many possible explana...        True   \n1821  I enjoyed this very moving book reminded me of...        True   \n1822  One of the world amazing classics. All three o...        True   \n1823  This book is laid out extremely well and is re...        True   \n1824  A little meta as a romance novel about novelis...       False   \n\n                 category  \n0                children  \n1                children  \n2                 mystery  \n3                children  \n4                children  \n...                   ...  \n1820              mystery  \n1821              mystery  \n1822             children  \n1823  humor_entertainment  \n1824              romance  \n\n[1792 rows x 8 columns]",
      "text/html": "<div>\n<style scoped>\n    .dataframe tbody tr th:only-of-type {\n        vertical-align: middle;\n    }\n\n    .dataframe tbody tr th {\n        vertical-align: top;\n    }\n\n    .dataframe thead th {\n        text-align: right;\n    }\n</style>\n<table border=\"1\" class=\"dataframe\">\n  <thead>\n    <tr style=\"text-align: right;\">\n      <th></th>\n      <th>Unnamed: 0</th>\n      <th>productAsin</th>\n      <th>ratingScore</th>\n      <th>reviewTitle</th>\n      <th>reviewReaction</th>\n      <th>reviewDescription</th>\n      <th>isVerified</th>\n      <th>category</th>\n    </tr>\n  </thead>\n  <tbody>\n    <tr>\n      <th>0</th>\n      <td>5542</td>\n      <td>670062510</td>\n      <td>4</td>\n      <td>Good item</td>\n      <td>NaN</td>\n      <td>Good item</td>\n      <td>True</td>\n      <td>children</td>\n    </tr>\n    <tr>\n      <th>1</th>\n      <td>7993</td>\n      <td>1484707230</td>\n      <td>5</td>\n      <td>Great Series 👍🏻</td>\n      <td>NaN</td>\n      <td>Absolutely wonderful book series! I ordered th...</td>\n      <td>True</td>\n      <td>children</td>\n    </tr>\n    <tr>\n      <th>2</th>\n      <td>10900</td>\n      <td>1542046599</td>\n      <td>5</td>\n      <td>Engaging Story</td>\n      <td>NaN</td>\n      <td>Before You Go is an engaging read with a weave...</td>\n      <td>True</td>\n      <td>mystery</td>\n    </tr>\n    <tr>\n      <th>3</th>\n      <td>7758</td>\n      <td>1589255518</td>\n      <td>5</td>\n      <td>Reading is fundamental</td>\n      <td>NaN</td>\n      <td>My grandson loves this story</td>\n      <td>True</td>\n      <td>children</td>\n    </tr>\n    <tr>\n      <th>4</th>\n      <td>4837</td>\n      <td>385376715</td>\n      <td>5</td>\n      <td>perfect gift for my new grand-baby!</td>\n      <td>11 people found this helpful</td>\n      <td>Beautifully illustrated, with healthy &amp; empowe...</td>\n      <td>True</td>\n      <td>children</td>\n    </tr>\n    <tr>\n      <th>...</th>\n      <td>...</td>\n      <td>...</td>\n      <td>...</td>\n      <td>...</td>\n      <td>...</td>\n      <td>...</td>\n      <td>...</td>\n      <td>...</td>\n    </tr>\n    <tr>\n      <th>1820</th>\n      <td>11284</td>\n      <td>1542046599</td>\n      <td>5</td>\n      <td>Kept me guessing</td>\n      <td>NaN</td>\n      <td>Well written mystery, so many possible explana...</td>\n      <td>True</td>\n      <td>mystery</td>\n    </tr>\n    <tr>\n      <th>1821</th>\n      <td>11964</td>\n      <td>1542046599</td>\n      <td>5</td>\n      <td>Compelling read</td>\n      <td>NaN</td>\n      <td>I enjoyed this very moving book reminded me of...</td>\n      <td>True</td>\n      <td>mystery</td>\n    </tr>\n    <tr>\n      <th>1822</th>\n      <td>5390</td>\n      <td>670062510</td>\n      <td>5</td>\n      <td>One of the true classics</td>\n      <td>NaN</td>\n      <td>One of the world amazing classics. All three o...</td>\n      <td>True</td>\n      <td>children</td>\n    </tr>\n    <tr>\n      <th>1823</th>\n      <td>860</td>\n      <td>B01IW9TM5O</td>\n      <td>5</td>\n      <td>Perfectly blends comedy with real issues</td>\n      <td>NaN</td>\n      <td>This book is laid out extremely well and is re...</td>\n      <td>True</td>\n      <td>humor_entertainment</td>\n    </tr>\n    <tr>\n      <th>1824</th>\n      <td>15795</td>\n      <td>1984806734</td>\n      <td>5</td>\n      <td>This book was adorable</td>\n      <td>NaN</td>\n      <td>A little meta as a romance novel about novelis...</td>\n      <td>False</td>\n      <td>romance</td>\n    </tr>\n  </tbody>\n</table>\n<p>1792 rows × 8 columns</p>\n</div>"
     },
     "execution_count": 64,
     "metadata": {},
     "output_type": "execute_result"
    }
   ],
   "source": [
    "df_translated_"
   ],
   "metadata": {
    "collapsed": false
   }
  },
  {
   "cell_type": "code",
   "execution_count": 111,
   "outputs": [
    {
     "data": {
      "text/plain": "                                    a_content_comment\n0   Terrible !!!...open at 12 noon, close at 7pm. ...\n1   I see other people's reviews about a lot of it...\n2   Singapore Global Studios is the only global st...\n3   The other doesn't know what I say! Now underst...\n4   Our family visited universal studios sinapore ...\n5   By far the best experience we have ever had at...\n6                This sentence was written in Hangul.\n7   We paid FULL price for the tickets, only to fi...\n8   Multiple rides, shows (100% of the shows were ...\n9   The VIP Experience at USS was worth every cent...\n10               This sentence was written in Hangul.\n11  Reading reviews we thought Universal would be ...\n12  almost half the themepark is closed - human cy...\n13  COVID-19 protocols are a joke! We purchased ti...\n14  There was one of the days when i went there it...\n15  Following current Covid-19 restrictions 1. so ...\n16  The express ticket is not working at the Juras...\n17  Each attraction ride need to edit 40-45 mins. ...\n18  Went to universal studios today. I really love...\n19  This is my 4th visit to universal studio I thi...\n20  The Mummy ride was closed due to technical iss...\n21  Many rides are off the list. I am worried abou...\n22  Went on a Saturday with friends. It was not ve...\n23  My mom was riding a personal mobility devices ...\n24  We found it very entertaining, we all enjoyed ...\n25  Is a 7/10 Halloween experience this year in US...\n26  Singapore Global Studios is the only global st...",
      "text/html": "<div>\n<style scoped>\n    .dataframe tbody tr th:only-of-type {\n        vertical-align: middle;\n    }\n\n    .dataframe tbody tr th {\n        vertical-align: top;\n    }\n\n    .dataframe thead th {\n        text-align: right;\n    }\n</style>\n<table border=\"1\" class=\"dataframe\">\n  <thead>\n    <tr style=\"text-align: right;\">\n      <th></th>\n      <th>a_content_comment</th>\n    </tr>\n  </thead>\n  <tbody>\n    <tr>\n      <th>0</th>\n      <td>Terrible !!!...open at 12 noon, close at 7pm. ...</td>\n    </tr>\n    <tr>\n      <th>1</th>\n      <td>I see other people's reviews about a lot of it...</td>\n    </tr>\n    <tr>\n      <th>2</th>\n      <td>Singapore Global Studios is the only global st...</td>\n    </tr>\n    <tr>\n      <th>3</th>\n      <td>The other doesn't know what I say! Now underst...</td>\n    </tr>\n    <tr>\n      <th>4</th>\n      <td>Our family visited universal studios sinapore ...</td>\n    </tr>\n    <tr>\n      <th>5</th>\n      <td>By far the best experience we have ever had at...</td>\n    </tr>\n    <tr>\n      <th>6</th>\n      <td>This sentence was written in Hangul.</td>\n    </tr>\n    <tr>\n      <th>7</th>\n      <td>We paid FULL price for the tickets, only to fi...</td>\n    </tr>\n    <tr>\n      <th>8</th>\n      <td>Multiple rides, shows (100% of the shows were ...</td>\n    </tr>\n    <tr>\n      <th>9</th>\n      <td>The VIP Experience at USS was worth every cent...</td>\n    </tr>\n    <tr>\n      <th>10</th>\n      <td>This sentence was written in Hangul.</td>\n    </tr>\n    <tr>\n      <th>11</th>\n      <td>Reading reviews we thought Universal would be ...</td>\n    </tr>\n    <tr>\n      <th>12</th>\n      <td>almost half the themepark is closed - human cy...</td>\n    </tr>\n    <tr>\n      <th>13</th>\n      <td>COVID-19 protocols are a joke! We purchased ti...</td>\n    </tr>\n    <tr>\n      <th>14</th>\n      <td>There was one of the days when i went there it...</td>\n    </tr>\n    <tr>\n      <th>15</th>\n      <td>Following current Covid-19 restrictions 1. so ...</td>\n    </tr>\n    <tr>\n      <th>16</th>\n      <td>The express ticket is not working at the Juras...</td>\n    </tr>\n    <tr>\n      <th>17</th>\n      <td>Each attraction ride need to edit 40-45 mins. ...</td>\n    </tr>\n    <tr>\n      <th>18</th>\n      <td>Went to universal studios today. I really love...</td>\n    </tr>\n    <tr>\n      <th>19</th>\n      <td>This is my 4th visit to universal studio I thi...</td>\n    </tr>\n    <tr>\n      <th>20</th>\n      <td>The Mummy ride was closed due to technical iss...</td>\n    </tr>\n    <tr>\n      <th>21</th>\n      <td>Many rides are off the list. I am worried abou...</td>\n    </tr>\n    <tr>\n      <th>22</th>\n      <td>Went on a Saturday with friends. It was not ve...</td>\n    </tr>\n    <tr>\n      <th>23</th>\n      <td>My mom was riding a personal mobility devices ...</td>\n    </tr>\n    <tr>\n      <th>24</th>\n      <td>We found it very entertaining, we all enjoyed ...</td>\n    </tr>\n    <tr>\n      <th>25</th>\n      <td>Is a 7/10 Halloween experience this year in US...</td>\n    </tr>\n    <tr>\n      <th>26</th>\n      <td>Singapore Global Studios is the only global st...</td>\n    </tr>\n  </tbody>\n</table>\n</div>"
     },
     "execution_count": 111,
     "metadata": {},
     "output_type": "execute_result"
    }
   ],
   "source": [
    "# ------------------- test here ------------------- #\n",
    "\n",
    "# from textblob import TextBlob\n",
    "# from langdetect import detect\n",
    "#\n",
    "# df_test = pd.read_csv (r'/Users/nikomii/Documents/CZ4034/Indexing/transTest.csv')\n",
    "# df_comment = pd.DataFrame(df_test[\"a_content_comment\"])\n",
    "# df_translated = df_comment\n",
    "# df_deleted = df_comment\n",
    "# #\n",
    "# for i in range(len(df_comment)):\n",
    "#     text = df_comment.at[i,'a_content_comment']\n",
    "#     lang = TextBlob(text)\n",
    "# # # delete non-english\n",
    "# #     if detect(text) != 'en':\n",
    "# #         df_deleted.drop(index = i, inplace=True)\n",
    "#\n",
    "#\n",
    "# # translate to english\n",
    "#     if detect(text) != 'en':\n",
    "#         blob = TextBlob(text)\n",
    "#         #print(blob.translate(to='en'))\n",
    "#         #df_comment.set_value(i, 'a_content_comment', blob.translate(to='en'))\n",
    "#         df_translated.at[i,'a_content_comment'] = str(blob.translate(to='en'))\n",
    "#\n",
    "# df_deleted\n",
    "# df_translated"
   ],
   "metadata": {
    "collapsed": false
   }
  },
  {
   "cell_type": "code",
   "execution_count": null,
   "outputs": [],
   "source": [],
   "metadata": {
    "collapsed": false
   }
  }
 ],
 "metadata": {
  "kernelspec": {
   "display_name": "Python 3",
   "language": "python",
   "name": "python3"
  },
  "language_info": {
   "codemirror_mode": {
    "name": "ipython",
    "version": 2
   },
   "file_extension": ".py",
   "mimetype": "text/x-python",
   "name": "python",
   "nbconvert_exporter": "python",
   "pygments_lexer": "ipython2",
   "version": "2.7.6"
  }
 },
 "nbformat": 4,
 "nbformat_minor": 0
}
