{
 "cells": [
  {
   "cell_type": "code",
   "execution_count": 1,
   "metadata": {},
   "outputs": [],
   "source": [
    "import pandas as pd\n",
    "import os"
   ]
  },
  {
   "cell_type": "markdown",
   "metadata": {},
   "source": [
    "## Helper Functions"
   ]
  },
  {
   "cell_type": "code",
   "execution_count": 2,
   "metadata": {},
   "outputs": [],
   "source": [
    "apify_format = [\"productAsin\", \"ratingScore\", \"reviewTitle\",\n",
    "                 \"reviewReaction\", \"reviewDescription\", \"isVerified\"]\n",
    "\n",
    "scrapehero_format = [\"asin\", \"review_rating\", \"review_header\",\n",
    "                 \"no_of_people_reacted_helpful\", \"review_text\", \"badge\"]\n",
    "\n",
    "def alignFormat(data):\n",
    "    data = data[scrapehero_format]\n",
    "\n",
    "    for index, row in data.iterrows():\n",
    "        if row[\"badge\"] == \"Verified Purchase\":\n",
    "            data.at[index,\"badge\"] = \"TRUE\"\n",
    "        else:\n",
    "            data.at[index,\"badge\"] = \"FALSE\"\n",
    "\n",
    "    for i in range(len(apify_format)):\n",
    "        data = data.rename(columns = {scrapehero_format[i]:apify_format[i]})\n",
    "    \n",
    "    return data\n",
    "    \n",
    "def add_column(data, category_name):\n",
    "    if category_name is not None:\n",
    "        category = category_name\n",
    "        category_list = [category]*len(data)\n",
    "        data['category'] = category_list\n",
    "    \n",
    "    return data\n",
    "\n",
    "def check_remove_duplicates(new_data):\n",
    "    has_duplicate = new_data.duplicated(subset=['reviewDescription']).any()\n",
    "    if has_duplicate:\n",
    "        new_data.drop_duplicates(subset=['reviewDescription'], inplace=True)\n",
    "        \n",
    "    return new_data\n",
    "    \n",
    "def visualize_duplicates(data):\n",
    "    duplicates = data[data.duplicated(['reviewDescription'])]\n",
    "    print(\"Visualizing \" + str(len(duplicates)) + \" duplicate reviews:\")\n",
    "\n",
    "    return duplicates\n",
    "\n",
    "def save_to_json(data, json_filename, category_name, export):\n",
    "    new_data = add_column(data, category_name)\n",
    "\n",
    "    if export:\n",
    "        new_data.to_json(json_filename + \".json\")\n",
    "    \n",
    "    return new_data\n",
    "\n",
    "def save_to_csv(data, csv_filename, category_name, export):\n",
    "    new_data = add_column(data, category_name)\n",
    "    \n",
    "    if export:\n",
    "        new_data.to_csv(csv_filename + \".csv\", index=False)\n",
    "    \n",
    "    return new_data"
   ]
  },
  {
   "cell_type": "markdown",
   "metadata": {},
   "source": [
    "# Import negative reviews crawled from ScrapeHero"
   ]
  },
  {
   "cell_type": "code",
   "execution_count": 3,
   "metadata": {},
   "outputs": [
    {
     "name": "stdout",
     "output_type": "stream",
     "text": [
      "NegativeReviews_Children_6.csv\n",
      "NegativeReviews_Romance_5.csv\n",
      "NegativeReviews_Romance_4.csv\n",
      "NegativeReviews_Children_7.csv\n",
      "NegativeReviews_Children_5.csv\n",
      "NegativeReviews_Romance_6.csv\n",
      "NegativeReviews_Romance_7.csv\n",
      "NegativeReviews_Children_4.csv\n",
      ".DS_Store\n",
      "NegativeReviews_Romance_3.csv\n",
      "NegativeReviews_Romance_2.csv\n",
      "NegativeReviews_Children_1.csv\n",
      "NegativeReviews_Children_3.csv\n",
      "NegativeReviews_Romance_1.csv\n",
      "NegativeReviews_Children_2.csv\n",
      "NegativeReviews_HnE_1.csv\n",
      "NegativeReviews_HnE_2.csv\n",
      "NegativeReviews_HnE_3.csv\n",
      "NegativeReviews_HnE_7.csv\n",
      "NegativeReviews_HnE_6.csv\n",
      "NegativeReviews_HnE_4.csv\n",
      "NegativeReviews_HnE_5.csv\n",
      "NegativeReviews_Mystery_3.csv\n",
      "NegativeReviews_Mystery_2.csv\n",
      "NegativeReviews_Romance_9.csv\n",
      "NegativeReviews_Romance_8.csv\n",
      "NegativeReviews_Mystery_1.csv\n"
     ]
    }
   ],
   "source": [
    "# Import configuration\n",
    "dir_path = r'/Users/bryson/Documents/bryson/NTU/modules/CZ4045_NLP/data/negative-reviews'\n",
    "\n",
    "books_csv_file_names = []\n",
    "for path in os.listdir(dir_path):\n",
    "    # check if current path is a file\n",
    "    if os.path.isfile(os.path.join(dir_path, path)):\n",
    "        print(path)\n",
    "        books_csv_file_names.append(path)"
   ]
  },
  {
   "cell_type": "markdown",
   "metadata": {},
   "source": [
    "## Export Settings and Summary Tools"
   ]
  },
  {
   "cell_type": "code",
   "execution_count": 4,
   "metadata": {},
   "outputs": [],
   "source": [
    "# Summary and export settings\n",
    "reviews_crawled = 0\n",
    "export_to_csv = False\n",
    "final_df_list = []\n",
    "column_format = [\"productAsin\", \"ratingScore\", \"reviewTitle\",\n",
    "                 \"reviewReaction\", \"reviewDescription\", \"isVerified\", \"category\"]"
   ]
  },
  {
   "cell_type": "markdown",
   "metadata": {},
   "source": [
    "## Crawling from Humor & Entertainment Book Category"
   ]
  },
  {
   "cell_type": "code",
   "execution_count": 5,
   "metadata": {},
   "outputs": [],
   "source": [
    "file_name = \"NegativeReviews_HnE_1\"\n",
    "file_extension = \".csv\"\n",
    "book_reviews_df = pd.read_csv(dir_path + '/' + file_name + file_extension)\n",
    "book_reviews_df = alignFormat(book_reviews_df)\n",
    "\n",
    "reviews_crawled += len(book_reviews_df)\n",
    "book_reviews_df = add_column(book_reviews_df, \"humor_entertainment\")\n",
    "final_df_list.append(book_reviews_df[column_format])"
   ]
  },
  {
   "cell_type": "code",
   "execution_count": 6,
   "metadata": {},
   "outputs": [],
   "source": [
    "file_name = \"NegativeReviews_HnE_2\"\n",
    "file_extension = \".csv\"\n",
    "book_reviews_df = pd.read_csv(dir_path + '/' + file_name + file_extension)\n",
    "book_reviews_df = alignFormat(book_reviews_df)\n",
    "\n",
    "reviews_crawled += len(book_reviews_df)\n",
    "book_reviews_df = add_column(book_reviews_df, \"humor_entertainment\")\n",
    "final_df_list.append(book_reviews_df[column_format])"
   ]
  },
  {
   "cell_type": "code",
   "execution_count": 7,
   "metadata": {},
   "outputs": [],
   "source": [
    "file_name = \"NegativeReviews_HnE_3\"\n",
    "file_extension = \".csv\"\n",
    "book_reviews_df = pd.read_csv(dir_path + '/' + file_name + file_extension)\n",
    "book_reviews_df = alignFormat(book_reviews_df)\n",
    "\n",
    "reviews_crawled += len(book_reviews_df)\n",
    "book_reviews_df = add_column(book_reviews_df, \"humor_entertainment\")\n",
    "final_df_list.append(book_reviews_df[column_format])"
   ]
  },
  {
   "cell_type": "code",
   "execution_count": 8,
   "metadata": {},
   "outputs": [],
   "source": [
    "file_name = \"NegativeReviews_HnE_4\"\n",
    "file_extension = \".csv\"\n",
    "book_reviews_df = pd.read_csv(dir_path + '/' + file_name + file_extension)\n",
    "book_reviews_df = alignFormat(book_reviews_df)\n",
    "\n",
    "reviews_crawled += len(book_reviews_df)\n",
    "book_reviews_df = add_column(book_reviews_df, \"humor_entertainment\")\n",
    "final_df_list.append(book_reviews_df[column_format])"
   ]
  },
  {
   "cell_type": "code",
   "execution_count": 9,
   "metadata": {},
   "outputs": [],
   "source": [
    "file_name = \"NegativeReviews_HnE_5\"\n",
    "file_extension = \".csv\"\n",
    "book_reviews_df = pd.read_csv(dir_path + '/' + file_name + file_extension)\n",
    "book_reviews_df = alignFormat(book_reviews_df)\n",
    "\n",
    "reviews_crawled += len(book_reviews_df)\n",
    "book_reviews_df = add_column(book_reviews_df, \"humor_entertainment\")\n",
    "final_df_list.append(book_reviews_df[column_format])"
   ]
  },
  {
   "cell_type": "code",
   "execution_count": 10,
   "metadata": {},
   "outputs": [],
   "source": [
    "file_name = \"NegativeReviews_HnE_6\"\n",
    "file_extension = \".csv\"\n",
    "book_reviews_df = pd.read_csv(dir_path + '/' + file_name + file_extension)\n",
    "book_reviews_df = alignFormat(book_reviews_df)\n",
    "\n",
    "reviews_crawled += len(book_reviews_df)\n",
    "book_reviews_df = add_column(book_reviews_df, \"humor_entertainment\")\n",
    "final_df_list.append(book_reviews_df[column_format])"
   ]
  },
  {
   "cell_type": "code",
   "execution_count": 11,
   "metadata": {},
   "outputs": [],
   "source": [
    "file_name = \"NegativeReviews_HnE_7\"\n",
    "file_extension = \".csv\"\n",
    "book_reviews_df = pd.read_csv(dir_path + '/' + file_name + file_extension)\n",
    "book_reviews_df = alignFormat(book_reviews_df)\n",
    "\n",
    "reviews_crawled += len(book_reviews_df)\n",
    "book_reviews_df = add_column(book_reviews_df, \"humor_entertainment\")\n",
    "final_df_list.append(book_reviews_df[column_format])"
   ]
  },
  {
   "cell_type": "markdown",
   "metadata": {},
   "source": [
    "## Crawling from Children Book Category"
   ]
  },
  {
   "cell_type": "code",
   "execution_count": 12,
   "metadata": {},
   "outputs": [],
   "source": [
    "file_name = \"NegativeReviews_Children_1\"\n",
    "file_extension = \".csv\"\n",
    "book_reviews_df = pd.read_csv(dir_path + '/' + file_name + file_extension)\n",
    "book_reviews_df = alignFormat(book_reviews_df)\n",
    "\n",
    "reviews_crawled += len(book_reviews_df)\n",
    "book_reviews_df = add_column(book_reviews_df, \"children\")\n",
    "final_df_list.append(book_reviews_df[column_format])"
   ]
  },
  {
   "cell_type": "code",
   "execution_count": 13,
   "metadata": {},
   "outputs": [],
   "source": [
    "file_name = \"NegativeReviews_Children_2\"\n",
    "file_extension = \".csv\"\n",
    "book_reviews_df = pd.read_csv(dir_path + '/' + file_name + file_extension)\n",
    "book_reviews_df = alignFormat(book_reviews_df)\n",
    "\n",
    "reviews_crawled += len(book_reviews_df)\n",
    "book_reviews_df = add_column(book_reviews_df, \"children\")\n",
    "final_df_list.append(book_reviews_df[column_format])"
   ]
  },
  {
   "cell_type": "code",
   "execution_count": 14,
   "metadata": {},
   "outputs": [],
   "source": [
    "file_name = \"NegativeReviews_Children_3\"\n",
    "file_extension = \".csv\"\n",
    "book_reviews_df = pd.read_csv(dir_path + '/' + file_name + file_extension)\n",
    "book_reviews_df = alignFormat(book_reviews_df)\n",
    "\n",
    "reviews_crawled += len(book_reviews_df)\n",
    "book_reviews_df = add_column(book_reviews_df, \"children\")\n",
    "final_df_list.append(book_reviews_df[column_format])"
   ]
  },
  {
   "cell_type": "code",
   "execution_count": 15,
   "metadata": {},
   "outputs": [],
   "source": [
    "file_name = \"NegativeReviews_Children_4\"\n",
    "file_extension = \".csv\"\n",
    "book_reviews_df = pd.read_csv(dir_path + '/' + file_name + file_extension)\n",
    "book_reviews_df = alignFormat(book_reviews_df)\n",
    "\n",
    "reviews_crawled += len(book_reviews_df)\n",
    "book_reviews_df = add_column(book_reviews_df, \"children\")\n",
    "final_df_list.append(book_reviews_df[column_format])"
   ]
  },
  {
   "cell_type": "code",
   "execution_count": 16,
   "metadata": {},
   "outputs": [],
   "source": [
    "file_name = \"NegativeReviews_Children_5\"\n",
    "file_extension = \".csv\"\n",
    "book_reviews_df = pd.read_csv(dir_path + '/' + file_name + file_extension)\n",
    "book_reviews_df = alignFormat(book_reviews_df)\n",
    "\n",
    "reviews_crawled += len(book_reviews_df)\n",
    "book_reviews_df = add_column(book_reviews_df, \"children\")\n",
    "final_df_list.append(book_reviews_df[column_format])"
   ]
  },
  {
   "cell_type": "code",
   "execution_count": 17,
   "metadata": {},
   "outputs": [],
   "source": [
    "file_name = \"NegativeReviews_Children_6\"\n",
    "file_extension = \".csv\"\n",
    "book_reviews_df = pd.read_csv(dir_path + '/' + file_name + file_extension)\n",
    "book_reviews_df = alignFormat(book_reviews_df)\n",
    "\n",
    "reviews_crawled += len(book_reviews_df)\n",
    "book_reviews_df = add_column(book_reviews_df, \"children\")\n",
    "final_df_list.append(book_reviews_df[column_format])"
   ]
  },
  {
   "cell_type": "code",
   "execution_count": 18,
   "metadata": {},
   "outputs": [],
   "source": [
    "file_name = \"NegativeReviews_Children_7\"\n",
    "file_extension = \".csv\"\n",
    "book_reviews_df = pd.read_csv(dir_path + '/' + file_name + file_extension)\n",
    "book_reviews_df = alignFormat(book_reviews_df)\n",
    "\n",
    "reviews_crawled += len(book_reviews_df)\n",
    "book_reviews_df = add_column(book_reviews_df, \"children\")\n",
    "final_df_list.append(book_reviews_df[column_format])"
   ]
  },
  {
   "cell_type": "markdown",
   "metadata": {},
   "source": [
    "## Crawling from Mystery Book Category"
   ]
  },
  {
   "cell_type": "code",
   "execution_count": 19,
   "metadata": {},
   "outputs": [],
   "source": [
    "file_name = \"NegativeReviews_Mystery_1\"\n",
    "file_extension = \".csv\"\n",
    "book_reviews_df = pd.read_csv(dir_path + '/' + file_name + file_extension)\n",
    "book_reviews_df = alignFormat(book_reviews_df)\n",
    "\n",
    "reviews_crawled += len(book_reviews_df)\n",
    "book_reviews_df = add_column(book_reviews_df, \"children\")\n",
    "final_df_list.append(book_reviews_df[column_format])"
   ]
  },
  {
   "cell_type": "code",
   "execution_count": 20,
   "metadata": {},
   "outputs": [],
   "source": [
    "file_name = \"NegativeReviews_Mystery_2\"\n",
    "file_extension = \".csv\"\n",
    "book_reviews_df = pd.read_csv(dir_path + '/' + file_name + file_extension)\n",
    "book_reviews_df = alignFormat(book_reviews_df)\n",
    "\n",
    "reviews_crawled += len(book_reviews_df)\n",
    "book_reviews_df = add_column(book_reviews_df, \"children\")\n",
    "final_df_list.append(book_reviews_df[column_format])"
   ]
  },
  {
   "cell_type": "code",
   "execution_count": 21,
   "metadata": {},
   "outputs": [],
   "source": [
    "file_name = \"NegativeReviews_Mystery_3\"\n",
    "file_extension = \".csv\"\n",
    "book_reviews_df = pd.read_csv(dir_path + '/' + file_name + file_extension)\n",
    "book_reviews_df = alignFormat(book_reviews_df)\n",
    "\n",
    "reviews_crawled += len(book_reviews_df)\n",
    "book_reviews_df = add_column(book_reviews_df, \"children\")\n",
    "final_df_list.append(book_reviews_df[column_format])"
   ]
  },
  {
   "cell_type": "markdown",
   "metadata": {},
   "source": [
    "## Crawling from Romance Book Category"
   ]
  },
  {
   "cell_type": "code",
   "execution_count": 22,
   "metadata": {},
   "outputs": [],
   "source": [
    "file_name = \"NegativeReviews_Romance_1\"\n",
    "file_extension = \".csv\"\n",
    "book_reviews_df = pd.read_csv(dir_path + '/' + file_name + file_extension)\n",
    "book_reviews_df = alignFormat(book_reviews_df)\n",
    "\n",
    "reviews_crawled += len(book_reviews_df)\n",
    "book_reviews_df = add_column(book_reviews_df, \"children\")\n",
    "final_df_list.append(book_reviews_df[column_format])"
   ]
  },
  {
   "cell_type": "code",
   "execution_count": 23,
   "metadata": {},
   "outputs": [],
   "source": [
    "file_name = \"NegativeReviews_Romance_2\"\n",
    "file_extension = \".csv\"\n",
    "book_reviews_df = pd.read_csv(dir_path + '/' + file_name + file_extension)\n",
    "book_reviews_df = alignFormat(book_reviews_df)\n",
    "\n",
    "reviews_crawled += len(book_reviews_df)\n",
    "book_reviews_df = add_column(book_reviews_df, \"children\")\n",
    "final_df_list.append(book_reviews_df[column_format])"
   ]
  },
  {
   "cell_type": "code",
   "execution_count": 24,
   "metadata": {},
   "outputs": [],
   "source": [
    "file_name = \"NegativeReviews_Romance_3\"\n",
    "file_extension = \".csv\"\n",
    "book_reviews_df = pd.read_csv(dir_path + '/' + file_name + file_extension)\n",
    "book_reviews_df = alignFormat(book_reviews_df)\n",
    "\n",
    "reviews_crawled += len(book_reviews_df)\n",
    "book_reviews_df = add_column(book_reviews_df, \"children\")\n",
    "final_df_list.append(book_reviews_df[column_format])"
   ]
  },
  {
   "cell_type": "code",
   "execution_count": 25,
   "metadata": {},
   "outputs": [],
   "source": [
    "file_name = \"NegativeReviews_Romance_4\"\n",
    "file_extension = \".csv\"\n",
    "book_reviews_df = pd.read_csv(dir_path + '/' + file_name + file_extension)\n",
    "book_reviews_df = alignFormat(book_reviews_df)\n",
    "\n",
    "reviews_crawled += len(book_reviews_df)\n",
    "book_reviews_df = add_column(book_reviews_df, \"children\")\n",
    "final_df_list.append(book_reviews_df[column_format])"
   ]
  },
  {
   "cell_type": "code",
   "execution_count": 26,
   "metadata": {},
   "outputs": [],
   "source": [
    "file_name = \"NegativeReviews_Romance_5\"\n",
    "file_extension = \".csv\"\n",
    "book_reviews_df = pd.read_csv(dir_path + '/' + file_name + file_extension)\n",
    "book_reviews_df = alignFormat(book_reviews_df)\n",
    "\n",
    "reviews_crawled += len(book_reviews_df)\n",
    "book_reviews_df = add_column(book_reviews_df, \"children\")\n",
    "final_df_list.append(book_reviews_df[column_format])"
   ]
  },
  {
   "cell_type": "code",
   "execution_count": 27,
   "metadata": {},
   "outputs": [],
   "source": [
    "file_name = \"NegativeReviews_Romance_6\"\n",
    "file_extension = \".csv\"\n",
    "book_reviews_df = pd.read_csv(dir_path + '/' + file_name + file_extension)\n",
    "book_reviews_df = alignFormat(book_reviews_df)\n",
    "\n",
    "reviews_crawled += len(book_reviews_df)\n",
    "book_reviews_df = add_column(book_reviews_df, \"children\")\n",
    "final_df_list.append(book_reviews_df[column_format])"
   ]
  },
  {
   "cell_type": "code",
   "execution_count": 28,
   "metadata": {},
   "outputs": [],
   "source": [
    "file_name = \"NegativeReviews_Romance_7\"\n",
    "file_extension = \".csv\"\n",
    "book_reviews_df = pd.read_csv(dir_path + '/' + file_name + file_extension)\n",
    "book_reviews_df = alignFormat(book_reviews_df)\n",
    "\n",
    "reviews_crawled += len(book_reviews_df)\n",
    "book_reviews_df = add_column(book_reviews_df, \"children\")\n",
    "final_df_list.append(book_reviews_df[column_format])"
   ]
  },
  {
   "cell_type": "code",
   "execution_count": 29,
   "metadata": {},
   "outputs": [],
   "source": [
    "file_name = \"NegativeReviews_Romance_8\"\n",
    "file_extension = \".csv\"\n",
    "book_reviews_df = pd.read_csv(dir_path + '/' + file_name + file_extension)\n",
    "book_reviews_df = alignFormat(book_reviews_df)\n",
    "\n",
    "reviews_crawled += len(book_reviews_df)\n",
    "book_reviews_df = add_column(book_reviews_df, \"children\")\n",
    "final_df_list.append(book_reviews_df[column_format])"
   ]
  },
  {
   "cell_type": "markdown",
   "metadata": {},
   "source": [
    "# Concatenate datas and remove duplicates"
   ]
  },
  {
   "cell_type": "code",
   "execution_count": 30,
   "metadata": {},
   "outputs": [
    {
     "name": "stdout",
     "output_type": "stream",
     "text": [
      "Visualizing 119 duplicate reviews:\n"
     ]
    },
    {
     "data": {
      "text/html": [
       "<div>\n",
       "<style scoped>\n",
       "    .dataframe tbody tr th:only-of-type {\n",
       "        vertical-align: middle;\n",
       "    }\n",
       "\n",
       "    .dataframe tbody tr th {\n",
       "        vertical-align: top;\n",
       "    }\n",
       "\n",
       "    .dataframe thead th {\n",
       "        text-align: right;\n",
       "    }\n",
       "</style>\n",
       "<table border=\"1\" class=\"dataframe\">\n",
       "  <thead>\n",
       "    <tr style=\"text-align: right;\">\n",
       "      <th></th>\n",
       "      <th>productAsin</th>\n",
       "      <th>ratingScore</th>\n",
       "      <th>reviewTitle</th>\n",
       "      <th>reviewReaction</th>\n",
       "      <th>reviewDescription</th>\n",
       "      <th>isVerified</th>\n",
       "      <th>category</th>\n",
       "    </tr>\n",
       "  </thead>\n",
       "  <tbody>\n",
       "    <tr>\n",
       "      <th>5940</th>\n",
       "      <td>1982137452</td>\n",
       "      <td>1.0</td>\n",
       "      <td>Disappointed</td>\n",
       "      <td>NaN</td>\n",
       "      <td>* Spoilers * Not sure why the reviews were so ...</td>\n",
       "      <td>FALSE</td>\n",
       "      <td>children</td>\n",
       "    </tr>\n",
       "    <tr>\n",
       "      <th>5957</th>\n",
       "      <td>1982137452</td>\n",
       "      <td>1.0</td>\n",
       "      <td>I Disapointment</td>\n",
       "      <td>NaN</td>\n",
       "      <td>A choice of my book club, and a groaned most o...</td>\n",
       "      <td>TRUE</td>\n",
       "      <td>children</td>\n",
       "    </tr>\n",
       "    <tr>\n",
       "      <th>5959</th>\n",
       "      <td>1982137452</td>\n",
       "      <td>1.0</td>\n",
       "      <td>This book stinks</td>\n",
       "      <td>4.0</td>\n",
       "      <td>A stupid story with shallow, predictable chara...</td>\n",
       "      <td>TRUE</td>\n",
       "      <td>children</td>\n",
       "    </tr>\n",
       "    <tr>\n",
       "      <th>5914</th>\n",
       "      <td>1982137452</td>\n",
       "      <td>1.0</td>\n",
       "      <td>Ugh</td>\n",
       "      <td>1.0</td>\n",
       "      <td>A super boring, tedious version of Sex in the ...</td>\n",
       "      <td>TRUE</td>\n",
       "      <td>children</td>\n",
       "    </tr>\n",
       "    <tr>\n",
       "      <th>5947</th>\n",
       "      <td>1982137452</td>\n",
       "      <td>1.0</td>\n",
       "      <td>In Five Years?????</td>\n",
       "      <td>4.0</td>\n",
       "      <td>A very disappointing book. All sad. Nothing go...</td>\n",
       "      <td>TRUE</td>\n",
       "      <td>children</td>\n",
       "    </tr>\n",
       "    <tr>\n",
       "      <th>...</th>\n",
       "      <td>...</td>\n",
       "      <td>...</td>\n",
       "      <td>...</td>\n",
       "      <td>...</td>\n",
       "      <td>...</td>\n",
       "      <td>...</td>\n",
       "      <td>...</td>\n",
       "    </tr>\n",
       "    <tr>\n",
       "      <th>5358</th>\n",
       "      <td>63215381</td>\n",
       "      <td>1.0</td>\n",
       "      <td>TERRIBLE QUALITY</td>\n",
       "      <td>NaN</td>\n",
       "      <td>NaN</td>\n",
       "      <td>TRUE</td>\n",
       "      <td>children</td>\n",
       "    </tr>\n",
       "    <tr>\n",
       "      <th>5637</th>\n",
       "      <td>1984806750</td>\n",
       "      <td>1.0</td>\n",
       "      <td>The cover came riped</td>\n",
       "      <td>1.0</td>\n",
       "      <td>NaN</td>\n",
       "      <td>TRUE</td>\n",
       "      <td>children</td>\n",
       "    </tr>\n",
       "    <tr>\n",
       "      <th>5685</th>\n",
       "      <td>1984806750</td>\n",
       "      <td>1.0</td>\n",
       "      <td>The cover of the book is ripped</td>\n",
       "      <td>NaN</td>\n",
       "      <td>NaN</td>\n",
       "      <td>TRUE</td>\n",
       "      <td>children</td>\n",
       "    </tr>\n",
       "    <tr>\n",
       "      <th>5725</th>\n",
       "      <td>1984806750</td>\n",
       "      <td>1.0</td>\n",
       "      <td>Package was SOAKING wet and now my pages are w...</td>\n",
       "      <td>NaN</td>\n",
       "      <td>NaN</td>\n",
       "      <td>TRUE</td>\n",
       "      <td>children</td>\n",
       "    </tr>\n",
       "    <tr>\n",
       "      <th>6024</th>\n",
       "      <td>425284700</td>\n",
       "      <td>1.0</td>\n",
       "      <td>Not new condition at all</td>\n",
       "      <td>NaN</td>\n",
       "      <td>NaN</td>\n",
       "      <td>TRUE</td>\n",
       "      <td>children</td>\n",
       "    </tr>\n",
       "  </tbody>\n",
       "</table>\n",
       "<p>119 rows × 7 columns</p>\n",
       "</div>"
      ],
      "text/plain": [
       "     productAsin  ratingScore  \\\n",
       "5940  1982137452          1.0   \n",
       "5957  1982137452          1.0   \n",
       "5959  1982137452          1.0   \n",
       "5914  1982137452          1.0   \n",
       "5947  1982137452          1.0   \n",
       "...          ...          ...   \n",
       "5358    63215381          1.0   \n",
       "5637  1984806750          1.0   \n",
       "5685  1984806750          1.0   \n",
       "5725  1984806750          1.0   \n",
       "6024   425284700          1.0   \n",
       "\n",
       "                                            reviewTitle reviewReaction  \\\n",
       "5940                                       Disappointed            NaN   \n",
       "5957                                    I Disapointment            NaN   \n",
       "5959                                   This book stinks            4.0   \n",
       "5914                                                Ugh            1.0   \n",
       "5947                                 In Five Years?????            4.0   \n",
       "...                                                 ...            ...   \n",
       "5358                                   TERRIBLE QUALITY            NaN   \n",
       "5637                               The cover came riped            1.0   \n",
       "5685                    The cover of the book is ripped            NaN   \n",
       "5725  Package was SOAKING wet and now my pages are w...            NaN   \n",
       "6024                           Not new condition at all            NaN   \n",
       "\n",
       "                                      reviewDescription isVerified  category  \n",
       "5940  * Spoilers * Not sure why the reviews were so ...      FALSE  children  \n",
       "5957  A choice of my book club, and a groaned most o...       TRUE  children  \n",
       "5959  A stupid story with shallow, predictable chara...       TRUE  children  \n",
       "5914  A super boring, tedious version of Sex in the ...       TRUE  children  \n",
       "5947  A very disappointing book. All sad. Nothing go...       TRUE  children  \n",
       "...                                                 ...        ...       ...  \n",
       "5358                                                NaN       TRUE  children  \n",
       "5637                                                NaN       TRUE  children  \n",
       "5685                                                NaN       TRUE  children  \n",
       "5725                                                NaN       TRUE  children  \n",
       "6024                                                NaN       TRUE  children  \n",
       "\n",
       "[119 rows x 7 columns]"
      ]
     },
     "execution_count": 30,
     "metadata": {},
     "output_type": "execute_result"
    }
   ],
   "source": [
    "final_df_list_concatenated = pd.concat(final_df_list, ignore_index = True)\n",
    "duplicates = visualize_duplicates(final_df_list_concatenated)\n",
    "\n",
    "duplicates = duplicates.sort_values(by='reviewDescription')\n",
    "duplicates"
   ]
  },
  {
   "cell_type": "code",
   "execution_count": 31,
   "metadata": {},
   "outputs": [
    {
     "data": {
      "text/html": [
       "<div>\n",
       "<style scoped>\n",
       "    .dataframe tbody tr th:only-of-type {\n",
       "        vertical-align: middle;\n",
       "    }\n",
       "\n",
       "    .dataframe tbody tr th {\n",
       "        vertical-align: top;\n",
       "    }\n",
       "\n",
       "    .dataframe thead th {\n",
       "        text-align: right;\n",
       "    }\n",
       "</style>\n",
       "<table border=\"1\" class=\"dataframe\">\n",
       "  <thead>\n",
       "    <tr style=\"text-align: right;\">\n",
       "      <th></th>\n",
       "      <th>productAsin</th>\n",
       "      <th>ratingScore</th>\n",
       "      <th>reviewTitle</th>\n",
       "      <th>reviewReaction</th>\n",
       "      <th>reviewDescription</th>\n",
       "      <th>isVerified</th>\n",
       "      <th>category</th>\n",
       "    </tr>\n",
       "  </thead>\n",
       "  <tbody>\n",
       "    <tr>\n",
       "      <th>0</th>\n",
       "      <td>1647222613</td>\n",
       "      <td>1.0</td>\n",
       "      <td>Could this BE any crappier?</td>\n",
       "      <td>NaN</td>\n",
       "      <td>This thing is awful- my girlfriend is a huge F...</td>\n",
       "      <td>TRUE</td>\n",
       "      <td>humor_entertainment</td>\n",
       "    </tr>\n",
       "    <tr>\n",
       "      <th>1</th>\n",
       "      <td>1647222613</td>\n",
       "      <td>1.0</td>\n",
       "      <td>Find something else!!</td>\n",
       "      <td>NaN</td>\n",
       "      <td>Definitely not what I was expecting! You get a...</td>\n",
       "      <td>TRUE</td>\n",
       "      <td>humor_entertainment</td>\n",
       "    </tr>\n",
       "    <tr>\n",
       "      <th>2</th>\n",
       "      <td>1647222613</td>\n",
       "      <td>1.0</td>\n",
       "      <td>Waste of money</td>\n",
       "      <td>NaN</td>\n",
       "      <td>Very disappointed for the price you pay all yo...</td>\n",
       "      <td>TRUE</td>\n",
       "      <td>humor_entertainment</td>\n",
       "    </tr>\n",
       "    <tr>\n",
       "      <th>3</th>\n",
       "      <td>1647222613</td>\n",
       "      <td>1.0</td>\n",
       "      <td>Don't buy it. Complete garbage!</td>\n",
       "      <td>NaN</td>\n",
       "      <td>Complete waste of money. I knew going into thi...</td>\n",
       "      <td>TRUE</td>\n",
       "      <td>humor_entertainment</td>\n",
       "    </tr>\n",
       "    <tr>\n",
       "      <th>4</th>\n",
       "      <td>1647222613</td>\n",
       "      <td>1.0</td>\n",
       "      <td>Not worth it</td>\n",
       "      <td>NaN</td>\n",
       "      <td>Very few items that are worth keeping or givin...</td>\n",
       "      <td>FALSE</td>\n",
       "      <td>humor_entertainment</td>\n",
       "    </tr>\n",
       "    <tr>\n",
       "      <th>...</th>\n",
       "      <td>...</td>\n",
       "      <td>...</td>\n",
       "      <td>...</td>\n",
       "      <td>...</td>\n",
       "      <td>...</td>\n",
       "      <td>...</td>\n",
       "      <td>...</td>\n",
       "    </tr>\n",
       "    <tr>\n",
       "      <th>6199</th>\n",
       "      <td>1250316774</td>\n",
       "      <td>1.0</td>\n",
       "      <td>Just awful.</td>\n",
       "      <td>NaN</td>\n",
       "      <td>Stupid plot, insipid characters. Nothing about...</td>\n",
       "      <td>TRUE</td>\n",
       "      <td>children</td>\n",
       "    </tr>\n",
       "    <tr>\n",
       "      <th>6200</th>\n",
       "      <td>1250316774</td>\n",
       "      <td>1.0</td>\n",
       "      <td>So much blablabla</td>\n",
       "      <td>NaN</td>\n",
       "      <td>Don’t like the type of book that don’t focus j...</td>\n",
       "      <td>TRUE</td>\n",
       "      <td>children</td>\n",
       "    </tr>\n",
       "    <tr>\n",
       "      <th>6201</th>\n",
       "      <td>1250316774</td>\n",
       "      <td>1.0</td>\n",
       "      <td>boring, predictable, 2 dimensional characters</td>\n",
       "      <td>NaN</td>\n",
       "      <td>I should have read more reviews before purchas...</td>\n",
       "      <td>FALSE</td>\n",
       "      <td>children</td>\n",
       "    </tr>\n",
       "    <tr>\n",
       "      <th>6202</th>\n",
       "      <td>1250316774</td>\n",
       "      <td>1.0</td>\n",
       "      <td>Cringe</td>\n",
       "      <td>1.0</td>\n",
       "      <td>Characters taken right from a terrible rejecte...</td>\n",
       "      <td>TRUE</td>\n",
       "      <td>children</td>\n",
       "    </tr>\n",
       "    <tr>\n",
       "      <th>6203</th>\n",
       "      <td>1250316774</td>\n",
       "      <td>1.0</td>\n",
       "      <td>Did not finish - for a very good reason</td>\n",
       "      <td>1.0</td>\n",
       "      <td>Just no, style if writing is very immature and...</td>\n",
       "      <td>TRUE</td>\n",
       "      <td>children</td>\n",
       "    </tr>\n",
       "  </tbody>\n",
       "</table>\n",
       "<p>6085 rows × 7 columns</p>\n",
       "</div>"
      ],
      "text/plain": [
       "     productAsin  ratingScore                                    reviewTitle  \\\n",
       "0     1647222613          1.0                    Could this BE any crappier?   \n",
       "1     1647222613          1.0                          Find something else!!   \n",
       "2     1647222613          1.0                                 Waste of money   \n",
       "3     1647222613          1.0                Don't buy it. Complete garbage!   \n",
       "4     1647222613          1.0                                   Not worth it   \n",
       "...          ...          ...                                            ...   \n",
       "6199  1250316774          1.0                                    Just awful.   \n",
       "6200  1250316774          1.0                              So much blablabla   \n",
       "6201  1250316774          1.0  boring, predictable, 2 dimensional characters   \n",
       "6202  1250316774          1.0                                         Cringe   \n",
       "6203  1250316774          1.0        Did not finish - for a very good reason   \n",
       "\n",
       "     reviewReaction                                  reviewDescription  \\\n",
       "0               NaN  This thing is awful- my girlfriend is a huge F...   \n",
       "1               NaN  Definitely not what I was expecting! You get a...   \n",
       "2               NaN  Very disappointed for the price you pay all yo...   \n",
       "3               NaN  Complete waste of money. I knew going into thi...   \n",
       "4               NaN  Very few items that are worth keeping or givin...   \n",
       "...             ...                                                ...   \n",
       "6199            NaN  Stupid plot, insipid characters. Nothing about...   \n",
       "6200            NaN  Don’t like the type of book that don’t focus j...   \n",
       "6201            NaN  I should have read more reviews before purchas...   \n",
       "6202            1.0  Characters taken right from a terrible rejecte...   \n",
       "6203            1.0  Just no, style if writing is very immature and...   \n",
       "\n",
       "     isVerified             category  \n",
       "0          TRUE  humor_entertainment  \n",
       "1          TRUE  humor_entertainment  \n",
       "2          TRUE  humor_entertainment  \n",
       "3          TRUE  humor_entertainment  \n",
       "4         FALSE  humor_entertainment  \n",
       "...         ...                  ...  \n",
       "6199       TRUE             children  \n",
       "6200       TRUE             children  \n",
       "6201      FALSE             children  \n",
       "6202       TRUE             children  \n",
       "6203       TRUE             children  \n",
       "\n",
       "[6085 rows x 7 columns]"
      ]
     },
     "execution_count": 31,
     "metadata": {},
     "output_type": "execute_result"
    }
   ],
   "source": [
    "final_df_list_concatenated = check_remove_duplicates(final_df_list_concatenated)\n",
    "save_to_csv(final_df_list_concatenated, \"final_books_dataset_duplicates_removed_negative\", None, True)\n",
    "\n",
    "final_df_list_concatenated"
   ]
  },
  {
   "cell_type": "code",
   "execution_count": 32,
   "metadata": {},
   "outputs": [],
   "source": [
    "words = 0\n",
    "for review in final_df_list_concatenated[\"reviewDescription\"]:\n",
    "    words += len(str(review).split())"
   ]
  },
  {
   "cell_type": "markdown",
   "metadata": {},
   "source": [
    "# Crawled Negative Data Summary"
   ]
  },
  {
   "cell_type": "code",
   "execution_count": 33,
   "metadata": {},
   "outputs": [
    {
     "name": "stdout",
     "output_type": "stream",
     "text": [
      "Number of crawled reviews: 6204\n",
      "Number of removed duplicate reviews: 119\n",
      "Number of unique negative reviews: 6085\n",
      "Number of words: 398054\n"
     ]
    }
   ],
   "source": [
    "duplicates_removed = reviews_crawled - len(final_df_list_concatenated)\n",
    "\n",
    "print('Number of crawled reviews: ' + str(reviews_crawled))\n",
    "print('Number of removed duplicate reviews: ' + str(duplicates_removed))\n",
    "print('Number of unique negative reviews: ' + str(len(final_df_list_concatenated)))\n",
    "print('Number of words: ' + str(words))"
   ]
  }
 ],
 "metadata": {
  "kernelspec": {
   "display_name": "Python 3.8.5 ('base')",
   "language": "python",
   "name": "python3"
  },
  "language_info": {
   "codemirror_mode": {
    "name": "ipython",
    "version": 3
   },
   "file_extension": ".py",
   "mimetype": "text/x-python",
   "name": "python",
   "nbconvert_exporter": "python",
   "pygments_lexer": "ipython3",
   "version": "3.8.5"
  },
  "orig_nbformat": 4,
  "vscode": {
   "interpreter": {
    "hash": "3dca147cc13744c930673d460bfdb00a3aa95331c2e6723149f43a15372a0c88"
   }
  }
 },
 "nbformat": 4,
 "nbformat_minor": 2
}
