{
  "nbformat": 4,
  "nbformat_minor": 0,
  "metadata": {
    "colab": {
      "provenance": [],
      "collapsed_sections": []
    },
    "kernelspec": {
      "name": "python3",
      "display_name": "Python 3"
    },
    "language_info": {
      "name": "python"
    },
    "accelerator": "GPU"
  },
  "cells": [
    {
      "cell_type": "markdown",
      "source": [
        "SiEBERT - English-Language Sentiment Classification\n",
        "\n"
      ],
      "metadata": {
        "id": "UlZCvLbghzAK"
      }
    },
    {
      "cell_type": "code",
      "execution_count": 1,
      "metadata": {
        "colab": {
          "base_uri": "https://localhost:8080/"
        },
        "id": "d8cEOSVB0xRh",
        "outputId": "1c9f1643-b762-4f9c-91c6-872cf7b6190c"
      },
      "outputs": [
        {
          "output_type": "stream",
          "name": "stdout",
          "text": [
            "Looking in indexes: https://pypi.org/simple, https://us-python.pkg.dev/colab-wheels/public/simple/\n",
            "Requirement already satisfied: transformers in /usr/local/lib/python3.7/dist-packages (4.24.0)\n",
            "Requirement already satisfied: packaging>=20.0 in /usr/local/lib/python3.7/dist-packages (from transformers) (21.3)\n",
            "Requirement already satisfied: tqdm>=4.27 in /usr/local/lib/python3.7/dist-packages (from transformers) (4.64.1)\n",
            "Requirement already satisfied: pyyaml>=5.1 in /usr/local/lib/python3.7/dist-packages (from transformers) (6.0)\n",
            "Requirement already satisfied: huggingface-hub<1.0,>=0.10.0 in /usr/local/lib/python3.7/dist-packages (from transformers) (0.10.1)\n",
            "Requirement already satisfied: regex!=2019.12.17 in /usr/local/lib/python3.7/dist-packages (from transformers) (2022.6.2)\n",
            "Requirement already satisfied: requests in /usr/local/lib/python3.7/dist-packages (from transformers) (2.23.0)\n",
            "Requirement already satisfied: numpy>=1.17 in /usr/local/lib/python3.7/dist-packages (from transformers) (1.21.6)\n",
            "Requirement already satisfied: importlib-metadata in /usr/local/lib/python3.7/dist-packages (from transformers) (4.13.0)\n",
            "Requirement already satisfied: tokenizers!=0.11.3,<0.14,>=0.11.1 in /usr/local/lib/python3.7/dist-packages (from transformers) (0.13.1)\n",
            "Requirement already satisfied: filelock in /usr/local/lib/python3.7/dist-packages (from transformers) (3.8.0)\n",
            "Requirement already satisfied: typing-extensions>=3.7.4.3 in /usr/local/lib/python3.7/dist-packages (from huggingface-hub<1.0,>=0.10.0->transformers) (4.1.1)\n",
            "Requirement already satisfied: pyparsing!=3.0.5,>=2.0.2 in /usr/local/lib/python3.7/dist-packages (from packaging>=20.0->transformers) (3.0.9)\n",
            "Requirement already satisfied: zipp>=0.5 in /usr/local/lib/python3.7/dist-packages (from importlib-metadata->transformers) (3.10.0)\n",
            "Requirement already satisfied: urllib3!=1.25.0,!=1.25.1,<1.26,>=1.21.1 in /usr/local/lib/python3.7/dist-packages (from requests->transformers) (1.25.11)\n",
            "Requirement already satisfied: idna<3,>=2.5 in /usr/local/lib/python3.7/dist-packages (from requests->transformers) (2.10)\n",
            "Requirement already satisfied: certifi>=2017.4.17 in /usr/local/lib/python3.7/dist-packages (from requests->transformers) (2022.9.24)\n",
            "Requirement already satisfied: chardet<4,>=3.0.2 in /usr/local/lib/python3.7/dist-packages (from requests->transformers) (3.0.4)\n",
            "Looking in indexes: https://pypi.org/simple, https://us-python.pkg.dev/colab-wheels/public/simple/\n",
            "Requirement already satisfied: pandas in /usr/local/lib/python3.7/dist-packages (1.3.5)\n",
            "Requirement already satisfied: python-dateutil>=2.7.3 in /usr/local/lib/python3.7/dist-packages (from pandas) (2.8.2)\n",
            "Requirement already satisfied: numpy>=1.17.3 in /usr/local/lib/python3.7/dist-packages (from pandas) (1.21.6)\n",
            "Requirement already satisfied: pytz>=2017.3 in /usr/local/lib/python3.7/dist-packages (from pandas) (2022.5)\n",
            "Requirement already satisfied: six>=1.5 in /usr/local/lib/python3.7/dist-packages (from python-dateutil>=2.7.3->pandas) (1.15.0)\n",
            "Looking in indexes: https://pypi.org/simple, https://us-python.pkg.dev/colab-wheels/public/simple/\n",
            "Requirement already satisfied: sklearn in /usr/local/lib/python3.7/dist-packages (0.0)\n",
            "Requirement already satisfied: scikit-learn in /usr/local/lib/python3.7/dist-packages (from sklearn) (1.0.2)\n",
            "Requirement already satisfied: joblib>=0.11 in /usr/local/lib/python3.7/dist-packages (from scikit-learn->sklearn) (1.2.0)\n",
            "Requirement already satisfied: numpy>=1.14.6 in /usr/local/lib/python3.7/dist-packages (from scikit-learn->sklearn) (1.21.6)\n",
            "Requirement already satisfied: threadpoolctl>=2.0.0 in /usr/local/lib/python3.7/dist-packages (from scikit-learn->sklearn) (3.1.0)\n",
            "Requirement already satisfied: scipy>=1.1.0 in /usr/local/lib/python3.7/dist-packages (from scikit-learn->sklearn) (1.7.3)\n"
          ]
        }
      ],
      "source": [
        "! pip install transformers\n",
        "! pip install pandas\n",
        "! pip install sklearn"
      ]
    },
    {
      "cell_type": "code",
      "source": [
        "# Load the Drive helper and mount\n",
        "from google.colab import drive\n",
        "\n",
        "# This will prompt for authorization.\n",
        "drive.mount('/content/drive/')"
      ],
      "metadata": {
        "colab": {
          "base_uri": "https://localhost:8080/"
        },
        "id": "4b6yyPS5Xx73",
        "outputId": "3ae32006-44dd-4a1c-83b2-975708fe8ae5"
      },
      "execution_count": 2,
      "outputs": [
        {
          "output_type": "stream",
          "name": "stdout",
          "text": [
            "Drive already mounted at /content/drive/; to attempt to forcibly remount, call drive.mount(\"/content/drive/\", force_remount=True).\n"
          ]
        }
      ]
    },
    {
      "cell_type": "code",
      "source": [
        "# Import required packages\n",
        "import torch\n",
        "import pandas as pd\n",
        "import numpy as np\n",
        "from transformers import AutoTokenizer, AutoModelForSequenceClassification, Trainer, TrainingArguments\n",
        "import time\n",
        "from sklearn.metrics import precision_score, recall_score, f1_score, accuracy_score"
      ],
      "metadata": {
        "id": "_c8Mfylg1O5C"
      },
      "execution_count": 3,
      "outputs": []
    },
    {
      "cell_type": "code",
      "source": [
        "# Create class for data preparation\n",
        "class SimpleDataset:\n",
        "    def __init__(self, tokenized_texts):\n",
        "        self.tokenized_texts = tokenized_texts\n",
        "    \n",
        "    def __len__(self):\n",
        "        return len(self.tokenized_texts[\"input_ids\"])\n",
        "    \n",
        "    def __getitem__(self, idx):\n",
        "        return {k: v[idx] for k, v in self.tokenized_texts.items()}"
      ],
      "metadata": {
        "id": "SwYRCCW-YADx"
      },
      "execution_count": 4,
      "outputs": []
    },
    {
      "cell_type": "code",
      "source": [
        "# Load tokenizer and model, create trainer\n",
        "model_name = \"siebert/sentiment-roberta-large-english\"\n",
        "tokenizer = AutoTokenizer.from_pretrained(model_name)\n",
        "model = AutoModelForSequenceClassification.from_pretrained(model_name)\n",
        "trainer = Trainer(model=model)"
      ],
      "metadata": {
        "id": "Ya4W8Umz5CHp"
      },
      "execution_count": 5,
      "outputs": []
    },
    {
      "cell_type": "code",
      "source": [
        "# Create list of texts (can be imported from .csv, .xls etc.)\n",
        "path_to_folder = \"/content/drive/My Drive/data/cz4045/\"\n",
        "train_raw = pd.read_csv(path_to_folder + 'train_df_imbalanced.csv')\n",
        "test_raw1 = pd.read_csv(path_to_folder + 'test_df_Bryson.csv')\n",
        "test_raw2 = pd.read_csv(path_to_folder + 'test_df_Gx.csv')\n",
        "test_raw3 = pd.read_csv(path_to_folder + 'test_df_Kelvin.csv')\n",
        "df_list = [test_raw1, test_raw2, test_raw3]\n",
        "test_df = pd.concat(df_list, ignore_index=True)"
      ],
      "metadata": {
        "id": "kcsCIzZQ5IbG"
      },
      "execution_count": 6,
      "outputs": []
    },
    {
      "cell_type": "code",
      "source": [
        "test_df = test_df.drop(columns=['Unnamed: 0', 'Unnamed: 0.1', 'Unnamed: 0.1.1'])\n",
        "print(len(test_df))\n",
        "test_df.head()"
      ],
      "metadata": {
        "colab": {
          "base_uri": "https://localhost:8080/",
          "height": 461
        },
        "id": "ihX7bkMCZT4C",
        "outputId": "bc48262f-9de4-4c96-bdcb-fc7484e76629"
      },
      "execution_count": 7,
      "outputs": [
        {
          "output_type": "stream",
          "name": "stdout",
          "text": [
            "2330\n"
          ]
        },
        {
          "output_type": "execute_result",
          "data": {
            "text/plain": [
              "  productAsin  ratingScore                          reviewTitle  \\\n",
              "0  1982137452            1         The content is all messed up   \n",
              "1  125030170X            1         Duplicate copy.Damaged book.   \n",
              "2    63215381            1                                Awful   \n",
              "3    60935464            1                      Syrupy Overload   \n",
              "4  1501161938            1  Couldn‚Äôt read it; type too small!   \n",
              "\n",
              "  reviewReaction                                  reviewDescription  \\\n",
              "0            NaN  I started this book this week for my book club...   \n",
              "1            NaN                                     Pages missing.   \n",
              "2            NaN  I gave up after 38% of my Kindle. Yes we were ...   \n",
              "3              3     The book is an example of leading the witness.   \n",
              "4              1  Beware, the type is TINY, I mean TINY. I am 60...   \n",
              "\n",
              "   isVerified  category         languages  Annotator_1  Annotator_2  \n",
              "0        True  children  Language.ENGLISH           -1           -1  \n",
              "1        True  children  Language.ENGLISH           -1           -1  \n",
              "2        True  children  Language.ENGLISH           -1           -1  \n",
              "3        True  children  Language.ENGLISH           -1           -1  \n",
              "4        True  children  Language.ENGLISH           -1           -1  "
            ],
            "text/html": [
              "\n",
              "  <div id=\"df-84bee669-db8b-423b-b114-7c2394889d30\">\n",
              "    <div class=\"colab-df-container\">\n",
              "      <div>\n",
              "<style scoped>\n",
              "    .dataframe tbody tr th:only-of-type {\n",
              "        vertical-align: middle;\n",
              "    }\n",
              "\n",
              "    .dataframe tbody tr th {\n",
              "        vertical-align: top;\n",
              "    }\n",
              "\n",
              "    .dataframe thead th {\n",
              "        text-align: right;\n",
              "    }\n",
              "</style>\n",
              "<table border=\"1\" class=\"dataframe\">\n",
              "  <thead>\n",
              "    <tr style=\"text-align: right;\">\n",
              "      <th></th>\n",
              "      <th>productAsin</th>\n",
              "      <th>ratingScore</th>\n",
              "      <th>reviewTitle</th>\n",
              "      <th>reviewReaction</th>\n",
              "      <th>reviewDescription</th>\n",
              "      <th>isVerified</th>\n",
              "      <th>category</th>\n",
              "      <th>languages</th>\n",
              "      <th>Annotator_1</th>\n",
              "      <th>Annotator_2</th>\n",
              "    </tr>\n",
              "  </thead>\n",
              "  <tbody>\n",
              "    <tr>\n",
              "      <th>0</th>\n",
              "      <td>1982137452</td>\n",
              "      <td>1</td>\n",
              "      <td>The content is all messed up</td>\n",
              "      <td>NaN</td>\n",
              "      <td>I started this book this week for my book club...</td>\n",
              "      <td>True</td>\n",
              "      <td>children</td>\n",
              "      <td>Language.ENGLISH</td>\n",
              "      <td>-1</td>\n",
              "      <td>-1</td>\n",
              "    </tr>\n",
              "    <tr>\n",
              "      <th>1</th>\n",
              "      <td>125030170X</td>\n",
              "      <td>1</td>\n",
              "      <td>Duplicate copy.Damaged book.</td>\n",
              "      <td>NaN</td>\n",
              "      <td>Pages missing.</td>\n",
              "      <td>True</td>\n",
              "      <td>children</td>\n",
              "      <td>Language.ENGLISH</td>\n",
              "      <td>-1</td>\n",
              "      <td>-1</td>\n",
              "    </tr>\n",
              "    <tr>\n",
              "      <th>2</th>\n",
              "      <td>63215381</td>\n",
              "      <td>1</td>\n",
              "      <td>Awful</td>\n",
              "      <td>NaN</td>\n",
              "      <td>I gave up after 38% of my Kindle. Yes we were ...</td>\n",
              "      <td>True</td>\n",
              "      <td>children</td>\n",
              "      <td>Language.ENGLISH</td>\n",
              "      <td>-1</td>\n",
              "      <td>-1</td>\n",
              "    </tr>\n",
              "    <tr>\n",
              "      <th>3</th>\n",
              "      <td>60935464</td>\n",
              "      <td>1</td>\n",
              "      <td>Syrupy Overload</td>\n",
              "      <td>3</td>\n",
              "      <td>The book is an example of leading the witness.</td>\n",
              "      <td>True</td>\n",
              "      <td>children</td>\n",
              "      <td>Language.ENGLISH</td>\n",
              "      <td>-1</td>\n",
              "      <td>-1</td>\n",
              "    </tr>\n",
              "    <tr>\n",
              "      <th>4</th>\n",
              "      <td>1501161938</td>\n",
              "      <td>1</td>\n",
              "      <td>Couldn‚Äôt read it; type too small!</td>\n",
              "      <td>1</td>\n",
              "      <td>Beware, the type is TINY, I mean TINY. I am 60...</td>\n",
              "      <td>True</td>\n",
              "      <td>children</td>\n",
              "      <td>Language.ENGLISH</td>\n",
              "      <td>-1</td>\n",
              "      <td>-1</td>\n",
              "    </tr>\n",
              "  </tbody>\n",
              "</table>\n",
              "</div>\n",
              "      <button class=\"colab-df-convert\" onclick=\"convertToInteractive('df-84bee669-db8b-423b-b114-7c2394889d30')\"\n",
              "              title=\"Convert this dataframe to an interactive table.\"\n",
              "              style=\"display:none;\">\n",
              "        \n",
              "  <svg xmlns=\"http://www.w3.org/2000/svg\" height=\"24px\"viewBox=\"0 0 24 24\"\n",
              "       width=\"24px\">\n",
              "    <path d=\"M0 0h24v24H0V0z\" fill=\"none\"/>\n",
              "    <path d=\"M18.56 5.44l.94 2.06.94-2.06 2.06-.94-2.06-.94-.94-2.06-.94 2.06-2.06.94zm-11 1L8.5 8.5l.94-2.06 2.06-.94-2.06-.94L8.5 2.5l-.94 2.06-2.06.94zm10 10l.94 2.06.94-2.06 2.06-.94-2.06-.94-.94-2.06-.94 2.06-2.06.94z\"/><path d=\"M17.41 7.96l-1.37-1.37c-.4-.4-.92-.59-1.43-.59-.52 0-1.04.2-1.43.59L10.3 9.45l-7.72 7.72c-.78.78-.78 2.05 0 2.83L4 21.41c.39.39.9.59 1.41.59.51 0 1.02-.2 1.41-.59l7.78-7.78 2.81-2.81c.8-.78.8-2.07 0-2.86zM5.41 20L4 18.59l7.72-7.72 1.47 1.35L5.41 20z\"/>\n",
              "  </svg>\n",
              "      </button>\n",
              "      \n",
              "  <style>\n",
              "    .colab-df-container {\n",
              "      display:flex;\n",
              "      flex-wrap:wrap;\n",
              "      gap: 12px;\n",
              "    }\n",
              "\n",
              "    .colab-df-convert {\n",
              "      background-color: #E8F0FE;\n",
              "      border: none;\n",
              "      border-radius: 50%;\n",
              "      cursor: pointer;\n",
              "      display: none;\n",
              "      fill: #1967D2;\n",
              "      height: 32px;\n",
              "      padding: 0 0 0 0;\n",
              "      width: 32px;\n",
              "    }\n",
              "\n",
              "    .colab-df-convert:hover {\n",
              "      background-color: #E2EBFA;\n",
              "      box-shadow: 0px 1px 2px rgba(60, 64, 67, 0.3), 0px 1px 3px 1px rgba(60, 64, 67, 0.15);\n",
              "      fill: #174EA6;\n",
              "    }\n",
              "\n",
              "    [theme=dark] .colab-df-convert {\n",
              "      background-color: #3B4455;\n",
              "      fill: #D2E3FC;\n",
              "    }\n",
              "\n",
              "    [theme=dark] .colab-df-convert:hover {\n",
              "      background-color: #434B5C;\n",
              "      box-shadow: 0px 1px 3px 1px rgba(0, 0, 0, 0.15);\n",
              "      filter: drop-shadow(0px 1px 2px rgba(0, 0, 0, 0.3));\n",
              "      fill: #FFFFFF;\n",
              "    }\n",
              "  </style>\n",
              "\n",
              "      <script>\n",
              "        const buttonEl =\n",
              "          document.querySelector('#df-84bee669-db8b-423b-b114-7c2394889d30 button.colab-df-convert');\n",
              "        buttonEl.style.display =\n",
              "          google.colab.kernel.accessAllowed ? 'block' : 'none';\n",
              "\n",
              "        async function convertToInteractive(key) {\n",
              "          const element = document.querySelector('#df-84bee669-db8b-423b-b114-7c2394889d30');\n",
              "          const dataTable =\n",
              "            await google.colab.kernel.invokeFunction('convertToInteractive',\n",
              "                                                     [key], {});\n",
              "          if (!dataTable) return;\n",
              "\n",
              "          const docLinkHtml = 'Like what you see? Visit the ' +\n",
              "            '<a target=\"_blank\" href=https://colab.research.google.com/notebooks/data_table.ipynb>data table notebook</a>'\n",
              "            + ' to learn more about interactive tables.';\n",
              "          element.innerHTML = '';\n",
              "          dataTable['output_type'] = 'display_data';\n",
              "          await google.colab.output.renderOutput(dataTable, element);\n",
              "          const docLink = document.createElement('div');\n",
              "          docLink.innerHTML = docLinkHtml;\n",
              "          element.appendChild(docLink);\n",
              "        }\n",
              "      </script>\n",
              "    </div>\n",
              "  </div>\n",
              "  "
            ]
          },
          "metadata": {},
          "execution_count": 7
        }
      ]
    },
    {
      "cell_type": "code",
      "source": [
        "test = test_df.loc[test_df.Annotator_1 != 0] # SiEBERT only does positive and negative classification, we drop neutral reviews\n",
        "test['text'] = test['reviewTitle'] + '. ' + test['reviewDescription']\n",
        "test = test[['text', 'Annotator_1']].copy()\n",
        "test = test.rename(columns={'Annotator_1': 'polarity'})\n",
        "test.loc[test['polarity'] == -1, 'polarity'] = 0 # change negative label from -1 to 0 according to SiEBERT's expectations\n",
        "pred_texts = test['text'].dropna().astype('str').tolist()"
      ],
      "metadata": {
        "colab": {
          "base_uri": "https://localhost:8080/"
        },
        "id": "mZEzbd8MZrq4",
        "outputId": "33628d62-3a48-4679-edca-4855df55be2d"
      },
      "execution_count": 8,
      "outputs": [
        {
          "output_type": "stream",
          "name": "stderr",
          "text": [
            "/usr/local/lib/python3.7/dist-packages/ipykernel_launcher.py:2: SettingWithCopyWarning: \n",
            "A value is trying to be set on a copy of a slice from a DataFrame.\n",
            "Try using .loc[row_indexer,col_indexer] = value instead\n",
            "\n",
            "See the caveats in the documentation: https://pandas.pydata.org/pandas-docs/stable/user_guide/indexing.html#returning-a-view-versus-a-copy\n",
            "  \n"
          ]
        }
      ]
    },
    {
      "cell_type": "code",
      "source": [
        "# Tokenize texts and create prediction data set\n",
        "tokenized_texts = tokenizer(pred_texts,truncation=True,padding='max_length')\n",
        "pred_dataset = SimpleDataset(tokenized_texts)"
      ],
      "metadata": {
        "id": "dWQSjkW85kK_"
      },
      "execution_count": 9,
      "outputs": []
    },
    {
      "cell_type": "code",
      "source": [
        "# Run predictions\n",
        "start_time = time.time()\n",
        "predictions = trainer.predict(pred_dataset)\n",
        "time_taken = time.time() - start_time\n",
        "rec_classified = len(test_df)/time_taken\n",
        "print(\"Predictions took \", time_taken, \" seconds\")\n",
        "print(\"Number of reviews classified per second: \", rec_classified)"
      ],
      "metadata": {
        "colab": {
          "base_uri": "https://localhost:8080/",
          "height": 104
        },
        "id": "gfO741gc6xyI",
        "outputId": "6b929dc7-18a0-4cba-d4c6-489dff24dc9d"
      },
      "execution_count": 11,
      "outputs": [
        {
          "output_type": "stream",
          "name": "stderr",
          "text": [
            "***** Running Prediction *****\n",
            "  Num examples = 2227\n",
            "  Batch size = 8\n"
          ]
        },
        {
          "output_type": "display_data",
          "data": {
            "text/plain": [
              "<IPython.core.display.HTML object>"
            ],
            "text/html": []
          },
          "metadata": {}
        },
        {
          "output_type": "stream",
          "name": "stdout",
          "text": [
            "Predictions took  219.39025378227234  seconds\n",
            "Number of reviews classified per second:  10.62034415764131\n"
          ]
        }
      ]
    },
    {
      "cell_type": "code",
      "source": [
        "# Transform predictions to labels\n",
        "preds = predictions.predictions.argmax(-1)\n",
        "labels = pd.Series(preds).map(model.config.id2label)\n",
        "scores = (np.exp(predictions[0])/np.exp(predictions[0]).sum(-1,keepdims=True)).max(1)"
      ],
      "metadata": {
        "id": "gnvHzDga61f5"
      },
      "execution_count": 12,
      "outputs": []
    },
    {
      "cell_type": "code",
      "source": [
        "# Create DataFrame with texts, predictions, labels, and scores\n",
        "df = pd.DataFrame(list(zip(pred_texts,preds,labels,scores)), columns=['text','pred','label','score'])\n",
        "df"
      ],
      "metadata": {
        "colab": {
          "base_uri": "https://localhost:8080/",
          "height": 424
        },
        "id": "uLpmunVU75dE",
        "outputId": "d74c54d9-7b1a-4333-900b-d2275973035c"
      },
      "execution_count": 13,
      "outputs": [
        {
          "output_type": "execute_result",
          "data": {
            "text/plain": [
              "                                                   text  pred     label  \\\n",
              "0     The content is all messed up. I started this b...     0  NEGATIVE   \n",
              "1          Duplicate copy.Damaged book.. Pages missing.     0  NEGATIVE   \n",
              "2     Awful. I gave up after 38% of my Kindle. Yes w...     0  NEGATIVE   \n",
              "3     Syrupy Overload. The book is an example of lea...     0  NEGATIVE   \n",
              "4     Couldn‚Äôt read it; type too small!. Beware, t...     0  NEGATIVE   \n",
              "...                                                 ...   ...       ...   \n",
              "2222                                    No. Just awful!     0  NEGATIVE   \n",
              "2223  Bored. I was so bored reading this book. I swi...     0  NEGATIVE   \n",
              "2224  Ugh!. Ugh! Too wordy, predictable and shallow....     0  NEGATIVE   \n",
              "2225  A story that made me cry. I have so many fond ...     1  POSITIVE   \n",
              "2226  Dreadfully boring. This is literally the most ...     0  NEGATIVE   \n",
              "\n",
              "         score  \n",
              "0     0.999510  \n",
              "1     0.999505  \n",
              "2     0.999507  \n",
              "3     0.999444  \n",
              "4     0.999496  \n",
              "...        ...  \n",
              "2222  0.999451  \n",
              "2223  0.999505  \n",
              "2224  0.999507  \n",
              "2225  0.998895  \n",
              "2226  0.999509  \n",
              "\n",
              "[2227 rows x 4 columns]"
            ],
            "text/html": [
              "\n",
              "  <div id=\"df-2fd2acf9-f13d-4d06-9bca-de3ae46f3ff4\">\n",
              "    <div class=\"colab-df-container\">\n",
              "      <div>\n",
              "<style scoped>\n",
              "    .dataframe tbody tr th:only-of-type {\n",
              "        vertical-align: middle;\n",
              "    }\n",
              "\n",
              "    .dataframe tbody tr th {\n",
              "        vertical-align: top;\n",
              "    }\n",
              "\n",
              "    .dataframe thead th {\n",
              "        text-align: right;\n",
              "    }\n",
              "</style>\n",
              "<table border=\"1\" class=\"dataframe\">\n",
              "  <thead>\n",
              "    <tr style=\"text-align: right;\">\n",
              "      <th></th>\n",
              "      <th>text</th>\n",
              "      <th>pred</th>\n",
              "      <th>label</th>\n",
              "      <th>score</th>\n",
              "    </tr>\n",
              "  </thead>\n",
              "  <tbody>\n",
              "    <tr>\n",
              "      <th>0</th>\n",
              "      <td>The content is all messed up. I started this b...</td>\n",
              "      <td>0</td>\n",
              "      <td>NEGATIVE</td>\n",
              "      <td>0.999510</td>\n",
              "    </tr>\n",
              "    <tr>\n",
              "      <th>1</th>\n",
              "      <td>Duplicate copy.Damaged book.. Pages missing.</td>\n",
              "      <td>0</td>\n",
              "      <td>NEGATIVE</td>\n",
              "      <td>0.999505</td>\n",
              "    </tr>\n",
              "    <tr>\n",
              "      <th>2</th>\n",
              "      <td>Awful. I gave up after 38% of my Kindle. Yes w...</td>\n",
              "      <td>0</td>\n",
              "      <td>NEGATIVE</td>\n",
              "      <td>0.999507</td>\n",
              "    </tr>\n",
              "    <tr>\n",
              "      <th>3</th>\n",
              "      <td>Syrupy Overload. The book is an example of lea...</td>\n",
              "      <td>0</td>\n",
              "      <td>NEGATIVE</td>\n",
              "      <td>0.999444</td>\n",
              "    </tr>\n",
              "    <tr>\n",
              "      <th>4</th>\n",
              "      <td>Couldn‚Äôt read it; type too small!. Beware, t...</td>\n",
              "      <td>0</td>\n",
              "      <td>NEGATIVE</td>\n",
              "      <td>0.999496</td>\n",
              "    </tr>\n",
              "    <tr>\n",
              "      <th>...</th>\n",
              "      <td>...</td>\n",
              "      <td>...</td>\n",
              "      <td>...</td>\n",
              "      <td>...</td>\n",
              "    </tr>\n",
              "    <tr>\n",
              "      <th>2222</th>\n",
              "      <td>No. Just awful!</td>\n",
              "      <td>0</td>\n",
              "      <td>NEGATIVE</td>\n",
              "      <td>0.999451</td>\n",
              "    </tr>\n",
              "    <tr>\n",
              "      <th>2223</th>\n",
              "      <td>Bored. I was so bored reading this book. I swi...</td>\n",
              "      <td>0</td>\n",
              "      <td>NEGATIVE</td>\n",
              "      <td>0.999505</td>\n",
              "    </tr>\n",
              "    <tr>\n",
              "      <th>2224</th>\n",
              "      <td>Ugh!. Ugh! Too wordy, predictable and shallow....</td>\n",
              "      <td>0</td>\n",
              "      <td>NEGATIVE</td>\n",
              "      <td>0.999507</td>\n",
              "    </tr>\n",
              "    <tr>\n",
              "      <th>2225</th>\n",
              "      <td>A story that made me cry. I have so many fond ...</td>\n",
              "      <td>1</td>\n",
              "      <td>POSITIVE</td>\n",
              "      <td>0.998895</td>\n",
              "    </tr>\n",
              "    <tr>\n",
              "      <th>2226</th>\n",
              "      <td>Dreadfully boring. This is literally the most ...</td>\n",
              "      <td>0</td>\n",
              "      <td>NEGATIVE</td>\n",
              "      <td>0.999509</td>\n",
              "    </tr>\n",
              "  </tbody>\n",
              "</table>\n",
              "<p>2227 rows × 4 columns</p>\n",
              "</div>\n",
              "      <button class=\"colab-df-convert\" onclick=\"convertToInteractive('df-2fd2acf9-f13d-4d06-9bca-de3ae46f3ff4')\"\n",
              "              title=\"Convert this dataframe to an interactive table.\"\n",
              "              style=\"display:none;\">\n",
              "        \n",
              "  <svg xmlns=\"http://www.w3.org/2000/svg\" height=\"24px\"viewBox=\"0 0 24 24\"\n",
              "       width=\"24px\">\n",
              "    <path d=\"M0 0h24v24H0V0z\" fill=\"none\"/>\n",
              "    <path d=\"M18.56 5.44l.94 2.06.94-2.06 2.06-.94-2.06-.94-.94-2.06-.94 2.06-2.06.94zm-11 1L8.5 8.5l.94-2.06 2.06-.94-2.06-.94L8.5 2.5l-.94 2.06-2.06.94zm10 10l.94 2.06.94-2.06 2.06-.94-2.06-.94-.94-2.06-.94 2.06-2.06.94z\"/><path d=\"M17.41 7.96l-1.37-1.37c-.4-.4-.92-.59-1.43-.59-.52 0-1.04.2-1.43.59L10.3 9.45l-7.72 7.72c-.78.78-.78 2.05 0 2.83L4 21.41c.39.39.9.59 1.41.59.51 0 1.02-.2 1.41-.59l7.78-7.78 2.81-2.81c.8-.78.8-2.07 0-2.86zM5.41 20L4 18.59l7.72-7.72 1.47 1.35L5.41 20z\"/>\n",
              "  </svg>\n",
              "      </button>\n",
              "      \n",
              "  <style>\n",
              "    .colab-df-container {\n",
              "      display:flex;\n",
              "      flex-wrap:wrap;\n",
              "      gap: 12px;\n",
              "    }\n",
              "\n",
              "    .colab-df-convert {\n",
              "      background-color: #E8F0FE;\n",
              "      border: none;\n",
              "      border-radius: 50%;\n",
              "      cursor: pointer;\n",
              "      display: none;\n",
              "      fill: #1967D2;\n",
              "      height: 32px;\n",
              "      padding: 0 0 0 0;\n",
              "      width: 32px;\n",
              "    }\n",
              "\n",
              "    .colab-df-convert:hover {\n",
              "      background-color: #E2EBFA;\n",
              "      box-shadow: 0px 1px 2px rgba(60, 64, 67, 0.3), 0px 1px 3px 1px rgba(60, 64, 67, 0.15);\n",
              "      fill: #174EA6;\n",
              "    }\n",
              "\n",
              "    [theme=dark] .colab-df-convert {\n",
              "      background-color: #3B4455;\n",
              "      fill: #D2E3FC;\n",
              "    }\n",
              "\n",
              "    [theme=dark] .colab-df-convert:hover {\n",
              "      background-color: #434B5C;\n",
              "      box-shadow: 0px 1px 3px 1px rgba(0, 0, 0, 0.15);\n",
              "      filter: drop-shadow(0px 1px 2px rgba(0, 0, 0, 0.3));\n",
              "      fill: #FFFFFF;\n",
              "    }\n",
              "  </style>\n",
              "\n",
              "      <script>\n",
              "        const buttonEl =\n",
              "          document.querySelector('#df-2fd2acf9-f13d-4d06-9bca-de3ae46f3ff4 button.colab-df-convert');\n",
              "        buttonEl.style.display =\n",
              "          google.colab.kernel.accessAllowed ? 'block' : 'none';\n",
              "\n",
              "        async function convertToInteractive(key) {\n",
              "          const element = document.querySelector('#df-2fd2acf9-f13d-4d06-9bca-de3ae46f3ff4');\n",
              "          const dataTable =\n",
              "            await google.colab.kernel.invokeFunction('convertToInteractive',\n",
              "                                                     [key], {});\n",
              "          if (!dataTable) return;\n",
              "\n",
              "          const docLinkHtml = 'Like what you see? Visit the ' +\n",
              "            '<a target=\"_blank\" href=https://colab.research.google.com/notebooks/data_table.ipynb>data table notebook</a>'\n",
              "            + ' to learn more about interactive tables.';\n",
              "          element.innerHTML = '';\n",
              "          dataTable['output_type'] = 'display_data';\n",
              "          await google.colab.output.renderOutput(dataTable, element);\n",
              "          const docLink = document.createElement('div');\n",
              "          docLink.innerHTML = docLinkHtml;\n",
              "          element.appendChild(docLink);\n",
              "        }\n",
              "      </script>\n",
              "    </div>\n",
              "  </div>\n",
              "  "
            ]
          },
          "metadata": {},
          "execution_count": 13
        }
      ]
    },
    {
      "cell_type": "code",
      "source": [
        "df = df.merge(test, on='text')\n",
        "df"
      ],
      "metadata": {
        "colab": {
          "base_uri": "https://localhost:8080/",
          "height": 572
        },
        "id": "SQIeUi0p7-AU",
        "outputId": "5c3f58b3-7856-48ce-94fd-3890fa1a9198"
      },
      "execution_count": 14,
      "outputs": [
        {
          "output_type": "execute_result",
          "data": {
            "text/plain": [
              "                                                   text  pred     label  \\\n",
              "0     The content is all messed up. I started this b...     0  NEGATIVE   \n",
              "1          Duplicate copy.Damaged book.. Pages missing.     0  NEGATIVE   \n",
              "2     Awful. I gave up after 38% of my Kindle. Yes w...     0  NEGATIVE   \n",
              "3     Syrupy Overload. The book is an example of lea...     0  NEGATIVE   \n",
              "4     Couldn‚Äôt read it; type too small!. Beware, t...     0  NEGATIVE   \n",
              "...                                                 ...   ...       ...   \n",
              "2222                                    No. Just awful!     0  NEGATIVE   \n",
              "2223  Bored. I was so bored reading this book. I swi...     0  NEGATIVE   \n",
              "2224  Ugh!. Ugh! Too wordy, predictable and shallow....     0  NEGATIVE   \n",
              "2225  A story that made me cry. I have so many fond ...     1  POSITIVE   \n",
              "2226  Dreadfully boring. This is literally the most ...     0  NEGATIVE   \n",
              "\n",
              "         score  polarity  \n",
              "0     0.999510         0  \n",
              "1     0.999505         0  \n",
              "2     0.999507         0  \n",
              "3     0.999444         0  \n",
              "4     0.999496         0  \n",
              "...        ...       ...  \n",
              "2222  0.999451         0  \n",
              "2223  0.999505         0  \n",
              "2224  0.999507         0  \n",
              "2225  0.998895         1  \n",
              "2226  0.999509         0  \n",
              "\n",
              "[2227 rows x 5 columns]"
            ],
            "text/html": [
              "\n",
              "  <div id=\"df-9dc6f877-d528-46b3-85e4-8454f0f849f6\">\n",
              "    <div class=\"colab-df-container\">\n",
              "      <div>\n",
              "<style scoped>\n",
              "    .dataframe tbody tr th:only-of-type {\n",
              "        vertical-align: middle;\n",
              "    }\n",
              "\n",
              "    .dataframe tbody tr th {\n",
              "        vertical-align: top;\n",
              "    }\n",
              "\n",
              "    .dataframe thead th {\n",
              "        text-align: right;\n",
              "    }\n",
              "</style>\n",
              "<table border=\"1\" class=\"dataframe\">\n",
              "  <thead>\n",
              "    <tr style=\"text-align: right;\">\n",
              "      <th></th>\n",
              "      <th>text</th>\n",
              "      <th>pred</th>\n",
              "      <th>label</th>\n",
              "      <th>score</th>\n",
              "      <th>polarity</th>\n",
              "    </tr>\n",
              "  </thead>\n",
              "  <tbody>\n",
              "    <tr>\n",
              "      <th>0</th>\n",
              "      <td>The content is all messed up. I started this b...</td>\n",
              "      <td>0</td>\n",
              "      <td>NEGATIVE</td>\n",
              "      <td>0.999510</td>\n",
              "      <td>0</td>\n",
              "    </tr>\n",
              "    <tr>\n",
              "      <th>1</th>\n",
              "      <td>Duplicate copy.Damaged book.. Pages missing.</td>\n",
              "      <td>0</td>\n",
              "      <td>NEGATIVE</td>\n",
              "      <td>0.999505</td>\n",
              "      <td>0</td>\n",
              "    </tr>\n",
              "    <tr>\n",
              "      <th>2</th>\n",
              "      <td>Awful. I gave up after 38% of my Kindle. Yes w...</td>\n",
              "      <td>0</td>\n",
              "      <td>NEGATIVE</td>\n",
              "      <td>0.999507</td>\n",
              "      <td>0</td>\n",
              "    </tr>\n",
              "    <tr>\n",
              "      <th>3</th>\n",
              "      <td>Syrupy Overload. The book is an example of lea...</td>\n",
              "      <td>0</td>\n",
              "      <td>NEGATIVE</td>\n",
              "      <td>0.999444</td>\n",
              "      <td>0</td>\n",
              "    </tr>\n",
              "    <tr>\n",
              "      <th>4</th>\n",
              "      <td>Couldn‚Äôt read it; type too small!. Beware, t...</td>\n",
              "      <td>0</td>\n",
              "      <td>NEGATIVE</td>\n",
              "      <td>0.999496</td>\n",
              "      <td>0</td>\n",
              "    </tr>\n",
              "    <tr>\n",
              "      <th>...</th>\n",
              "      <td>...</td>\n",
              "      <td>...</td>\n",
              "      <td>...</td>\n",
              "      <td>...</td>\n",
              "      <td>...</td>\n",
              "    </tr>\n",
              "    <tr>\n",
              "      <th>2222</th>\n",
              "      <td>No. Just awful!</td>\n",
              "      <td>0</td>\n",
              "      <td>NEGATIVE</td>\n",
              "      <td>0.999451</td>\n",
              "      <td>0</td>\n",
              "    </tr>\n",
              "    <tr>\n",
              "      <th>2223</th>\n",
              "      <td>Bored. I was so bored reading this book. I swi...</td>\n",
              "      <td>0</td>\n",
              "      <td>NEGATIVE</td>\n",
              "      <td>0.999505</td>\n",
              "      <td>0</td>\n",
              "    </tr>\n",
              "    <tr>\n",
              "      <th>2224</th>\n",
              "      <td>Ugh!. Ugh! Too wordy, predictable and shallow....</td>\n",
              "      <td>0</td>\n",
              "      <td>NEGATIVE</td>\n",
              "      <td>0.999507</td>\n",
              "      <td>0</td>\n",
              "    </tr>\n",
              "    <tr>\n",
              "      <th>2225</th>\n",
              "      <td>A story that made me cry. I have so many fond ...</td>\n",
              "      <td>1</td>\n",
              "      <td>POSITIVE</td>\n",
              "      <td>0.998895</td>\n",
              "      <td>1</td>\n",
              "    </tr>\n",
              "    <tr>\n",
              "      <th>2226</th>\n",
              "      <td>Dreadfully boring. This is literally the most ...</td>\n",
              "      <td>0</td>\n",
              "      <td>NEGATIVE</td>\n",
              "      <td>0.999509</td>\n",
              "      <td>0</td>\n",
              "    </tr>\n",
              "  </tbody>\n",
              "</table>\n",
              "<p>2227 rows × 5 columns</p>\n",
              "</div>\n",
              "      <button class=\"colab-df-convert\" onclick=\"convertToInteractive('df-9dc6f877-d528-46b3-85e4-8454f0f849f6')\"\n",
              "              title=\"Convert this dataframe to an interactive table.\"\n",
              "              style=\"display:none;\">\n",
              "        \n",
              "  <svg xmlns=\"http://www.w3.org/2000/svg\" height=\"24px\"viewBox=\"0 0 24 24\"\n",
              "       width=\"24px\">\n",
              "    <path d=\"M0 0h24v24H0V0z\" fill=\"none\"/>\n",
              "    <path d=\"M18.56 5.44l.94 2.06.94-2.06 2.06-.94-2.06-.94-.94-2.06-.94 2.06-2.06.94zm-11 1L8.5 8.5l.94-2.06 2.06-.94-2.06-.94L8.5 2.5l-.94 2.06-2.06.94zm10 10l.94 2.06.94-2.06 2.06-.94-2.06-.94-.94-2.06-.94 2.06-2.06.94z\"/><path d=\"M17.41 7.96l-1.37-1.37c-.4-.4-.92-.59-1.43-.59-.52 0-1.04.2-1.43.59L10.3 9.45l-7.72 7.72c-.78.78-.78 2.05 0 2.83L4 21.41c.39.39.9.59 1.41.59.51 0 1.02-.2 1.41-.59l7.78-7.78 2.81-2.81c.8-.78.8-2.07 0-2.86zM5.41 20L4 18.59l7.72-7.72 1.47 1.35L5.41 20z\"/>\n",
              "  </svg>\n",
              "      </button>\n",
              "      \n",
              "  <style>\n",
              "    .colab-df-container {\n",
              "      display:flex;\n",
              "      flex-wrap:wrap;\n",
              "      gap: 12px;\n",
              "    }\n",
              "\n",
              "    .colab-df-convert {\n",
              "      background-color: #E8F0FE;\n",
              "      border: none;\n",
              "      border-radius: 50%;\n",
              "      cursor: pointer;\n",
              "      display: none;\n",
              "      fill: #1967D2;\n",
              "      height: 32px;\n",
              "      padding: 0 0 0 0;\n",
              "      width: 32px;\n",
              "    }\n",
              "\n",
              "    .colab-df-convert:hover {\n",
              "      background-color: #E2EBFA;\n",
              "      box-shadow: 0px 1px 2px rgba(60, 64, 67, 0.3), 0px 1px 3px 1px rgba(60, 64, 67, 0.15);\n",
              "      fill: #174EA6;\n",
              "    }\n",
              "\n",
              "    [theme=dark] .colab-df-convert {\n",
              "      background-color: #3B4455;\n",
              "      fill: #D2E3FC;\n",
              "    }\n",
              "\n",
              "    [theme=dark] .colab-df-convert:hover {\n",
              "      background-color: #434B5C;\n",
              "      box-shadow: 0px 1px 3px 1px rgba(0, 0, 0, 0.15);\n",
              "      filter: drop-shadow(0px 1px 2px rgba(0, 0, 0, 0.3));\n",
              "      fill: #FFFFFF;\n",
              "    }\n",
              "  </style>\n",
              "\n",
              "      <script>\n",
              "        const buttonEl =\n",
              "          document.querySelector('#df-9dc6f877-d528-46b3-85e4-8454f0f849f6 button.colab-df-convert');\n",
              "        buttonEl.style.display =\n",
              "          google.colab.kernel.accessAllowed ? 'block' : 'none';\n",
              "\n",
              "        async function convertToInteractive(key) {\n",
              "          const element = document.querySelector('#df-9dc6f877-d528-46b3-85e4-8454f0f849f6');\n",
              "          const dataTable =\n",
              "            await google.colab.kernel.invokeFunction('convertToInteractive',\n",
              "                                                     [key], {});\n",
              "          if (!dataTable) return;\n",
              "\n",
              "          const docLinkHtml = 'Like what you see? Visit the ' +\n",
              "            '<a target=\"_blank\" href=https://colab.research.google.com/notebooks/data_table.ipynb>data table notebook</a>'\n",
              "            + ' to learn more about interactive tables.';\n",
              "          element.innerHTML = '';\n",
              "          dataTable['output_type'] = 'display_data';\n",
              "          await google.colab.output.renderOutput(dataTable, element);\n",
              "          const docLink = document.createElement('div');\n",
              "          docLink.innerHTML = docLinkHtml;\n",
              "          element.appendChild(docLink);\n",
              "        }\n",
              "      </script>\n",
              "    </div>\n",
              "  </div>\n",
              "  "
            ]
          },
          "metadata": {},
          "execution_count": 14
        }
      ]
    },
    {
      "cell_type": "code",
      "source": [
        "y_true = df['polarity'].tolist()\n",
        "y_pred = df['pred'].tolist()"
      ],
      "metadata": {
        "id": "KPtPNA7OeSlr"
      },
      "execution_count": 15,
      "outputs": []
    },
    {
      "cell_type": "code",
      "source": [
        "print('Test Accuracy: ', accuracy_score(y_true, y_pred))"
      ],
      "metadata": {
        "colab": {
          "base_uri": "https://localhost:8080/"
        },
        "id": "fHYKxoo9e3VE",
        "outputId": "a62eb2de-a8ef-4f4f-bf0d-d628ece89d5c"
      },
      "execution_count": 16,
      "outputs": [
        {
          "output_type": "stream",
          "name": "stdout",
          "text": [
            "Test Accuracy:  0.9744050291872475\n"
          ]
        }
      ]
    },
    {
      "cell_type": "code",
      "source": [
        "print('Test Precision: ', precision_score(y_true, y_pred))"
      ],
      "metadata": {
        "colab": {
          "base_uri": "https://localhost:8080/"
        },
        "id": "3gKYmBdGe_9s",
        "outputId": "5e8cc52a-2c6d-45b2-f254-595fd0da5901"
      },
      "execution_count": 17,
      "outputs": [
        {
          "output_type": "stream",
          "name": "stdout",
          "text": [
            "Test Precision:  0.9853316326530612\n"
          ]
        }
      ]
    },
    {
      "cell_type": "code",
      "source": [
        "print('Test Recall: ', recall_score(y_true, y_pred))"
      ],
      "metadata": {
        "colab": {
          "base_uri": "https://localhost:8080/"
        },
        "id": "HN4uc6_jfGHY",
        "outputId": "df2965c8-5249-4573-8f9d-410ec13c2f84"
      },
      "execution_count": 18,
      "outputs": [
        {
          "output_type": "stream",
          "name": "stdout",
          "text": [
            "Test Recall:  0.9784673844205193\n"
          ]
        }
      ]
    },
    {
      "cell_type": "code",
      "source": [
        "print('Test F-measure: ', f1_score(y_true, y_pred))"
      ],
      "metadata": {
        "colab": {
          "base_uri": "https://localhost:8080/"
        },
        "id": "XdT7KcnmfVNJ",
        "outputId": "2440730b-9130-411e-ac06-ee8e0873086a"
      },
      "execution_count": 19,
      "outputs": [
        {
          "output_type": "stream",
          "name": "stdout",
          "text": [
            "Test F-measure:  0.9818875119161105\n"
          ]
        }
      ]
    },
    {
      "cell_type": "code",
      "source": [],
      "metadata": {
        "id": "ggPj7PzlktjV"
      },
      "execution_count": null,
      "outputs": []
    }
  ]
}