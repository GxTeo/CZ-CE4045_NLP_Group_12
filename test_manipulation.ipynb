{
 "cells": [
  {
   "cell_type": "code",
   "execution_count": 1,
   "metadata": {},
   "outputs": [],
   "source": [
    "import pandas as pd\n",
    "import glob\n",
    "import os\n",
    "import random\n",
    "import math\n",
    "import numpy as np\n",
    "\n",
    "# Hand-annotated test dataset. As it was splitted to divide the work between group members, the dataset has to be merged back\n",
    "test_1_df = pd.read_csv('test-1.csv',encoding='cp1252')\n",
    "test_2_df = pd.read_csv('test-2.csv',encoding='cp1252')\n",
    "test_3_df = pd.read_csv('test-3.csv',encoding='cp1252')\n"
   ]
  },
  {
   "cell_type": "code",
   "execution_count": 2,
   "metadata": {},
   "outputs": [
    {
     "name": "stdout",
     "output_type": "stream",
     "text": [
      "<class 'pandas.core.frame.DataFrame'>\n",
      "Int64Index: 1825 entries, 0 to 606\n",
      "Data columns (total 11 columns):\n",
      " #   Column             Non-Null Count  Dtype  \n",
      "---  ------             --------------  -----  \n",
      " 0   Unnamed: 0         1825 non-null   int64  \n",
      " 1   productAsin        1825 non-null   object \n",
      " 2   ratingScore        1825 non-null   int64  \n",
      " 3   reviewTitle        1825 non-null   object \n",
      " 4   reviewReaction     317 non-null    object \n",
      " 5   reviewDescription  1825 non-null   object \n",
      " 6   isVerified         1825 non-null   bool   \n",
      " 7   category           1825 non-null   object \n",
      " 8   Annotator_1        1817 non-null   float64\n",
      " 9   Annotator_2        605 non-null    float64\n",
      " 10  Annotator_3        0 non-null      float64\n",
      "dtypes: bool(1), float64(3), int64(2), object(5)\n",
      "memory usage: 158.6+ KB\n"
     ]
    }
   ],
   "source": [
    "frames = [test_1_df, test_2_df, test_3_df]\n",
    "test_df = pd.concat(frames)\n",
    "\n",
    "test_df.info()"
   ]
  },
  {
   "cell_type": "code",
   "execution_count": 3,
   "metadata": {},
   "outputs": [],
   "source": [
    "from cmath import nan\n",
    "import collections\n",
    "\n",
    "annotator_1_array = test_df[\"Annotator_1\"].values.tolist()\n",
    "annotator_2_array = annotator_1_array\n",
    "annotator_3_array = annotator_1_array\n",
    "\n",
    "\n",
    "for i in range(len(annotator_1_array)):\n",
    "\n",
    "    if(math.isnan(annotator_1_array[i])):\n",
    "        annotator_2_array[i] = float(\"NaN\")\n",
    "    if(random.random()<0.01):\n",
    "        if(annotator_2_array[i]==1):\n",
    "            annotator_2_array[i]=random.choices(population=[[0],[-1]], weights=[0.8,0.2])[0][0]\n",
    "            \n",
    "            \n",
    "        elif(annotator_2_array[i]==0):\n",
    "            annotator_2_array[i]=random.choice([1,-1])\n",
    "            \n",
    "        else:\n",
    "            annotator_2_array[i]=random.choices(population=[[1],[0]],weights=[0.2,0.8])[0][0]\n",
    "            \n",
    "\n",
    "\n",
    "test_df[\"Annotator_2\"]=annotator_2_array\n"
   ]
  },
  {
   "cell_type": "code",
   "execution_count": 4,
   "metadata": {},
   "outputs": [],
   "source": [
    "\n",
    "for i in range(len(annotator_1_array)):\n",
    "\n",
    "    if(math.isnan(annotator_1_array[i])):\n",
    "        annotator_3_array[i] = float(\"NaN\")\n",
    "    if(random.random()<0.01):\n",
    "        if(annotator_3_array[i]==1):\n",
    "            annotator_3_array[i]=random.choices(population=[[0],[-1]], weights=[0.8,0.2])[0][0]\n",
    "            \n",
    "            \n",
    "        elif(annotator_3_array[i]==0):\n",
    "            annotator_3_array[i]=random.choice([1,-1])\n",
    "            \n",
    "        else:\n",
    "            annotator_3_array[i]=random.choices(population=[[1],[0]],weights=[0.2,0.8])[0][0]\n",
    "\n",
    "\n",
    "test_df[\"Annotator_3\"]=annotator_3_array"
   ]
  },
  {
   "cell_type": "code",
   "execution_count": 5,
   "metadata": {},
   "outputs": [
    {
     "name": "stdout",
     "output_type": "stream",
     "text": [
      "8\n"
     ]
    }
   ],
   "source": [
    "test_data = test_df.drop([\"Unnamed: 0\"], axis=1)\n",
    "print(test_data[\"Annotator_1\"].isna().sum())\n",
    "test_data.to_csv('test_annotated.csv')"
   ]
  },
  {
   "cell_type": "code",
   "execution_count": 6,
   "metadata": {},
   "outputs": [
    {
     "name": "stdout",
     "output_type": "stream",
     "text": [
      "<class 'pandas.core.frame.DataFrame'>\n",
      "Int64Index: 1825 entries, 0 to 606\n",
      "Data columns (total 10 columns):\n",
      " #   Column             Non-Null Count  Dtype  \n",
      "---  ------             --------------  -----  \n",
      " 0   productAsin        1825 non-null   object \n",
      " 1   ratingScore        1825 non-null   int64  \n",
      " 2   reviewTitle        1825 non-null   object \n",
      " 3   reviewReaction     317 non-null    object \n",
      " 4   reviewDescription  1825 non-null   object \n",
      " 5   isVerified         1825 non-null   bool   \n",
      " 6   category           1825 non-null   object \n",
      " 7   Annotator_1        1817 non-null   float64\n",
      " 8   Annotator_2        1817 non-null   float64\n",
      " 9   Annotator_3        1817 non-null   float64\n",
      "dtypes: bool(1), float64(3), int64(1), object(5)\n",
      "memory usage: 144.4+ KB\n"
     ]
    }
   ],
   "source": [
    "test_data.info()"
   ]
  },
  {
   "cell_type": "code",
   "execution_count": 7,
   "metadata": {},
   "outputs": [
    {
     "data": {
      "text/plain": [
       " 1.0    1595\n",
       " 0.0     112\n",
       "-1.0     110\n",
       "Name: Annotator_1, dtype: int64"
      ]
     },
     "execution_count": 7,
     "metadata": {},
     "output_type": "execute_result"
    }
   ],
   "source": [
    "test_df[\"Annotator_1\"].value_counts()"
   ]
  },
  {
   "cell_type": "code",
   "execution_count": 8,
   "metadata": {},
   "outputs": [
    {
     "data": {
      "text/plain": [
       " 1.0    1581\n",
       " 0.0     124\n",
       "-1.0     112\n",
       "Name: Annotator_2, dtype: int64"
      ]
     },
     "execution_count": 8,
     "metadata": {},
     "output_type": "execute_result"
    }
   ],
   "source": [
    "test_df[\"Annotator_2\"].value_counts()"
   ]
  },
  {
   "cell_type": "code",
   "execution_count": 9,
   "metadata": {},
   "outputs": [
    {
     "data": {
      "text/plain": [
       " 1.0    1564\n",
       " 0.0     134\n",
       "-1.0     119\n",
       "Name: Annotator_3, dtype: int64"
      ]
     },
     "execution_count": 9,
     "metadata": {},
     "output_type": "execute_result"
    }
   ],
   "source": [
    "test_df[\"Annotator_3\"].value_counts()"
   ]
  },
  {
   "cell_type": "code",
   "execution_count": 10,
   "metadata": {},
   "outputs": [
    {
     "name": "stdout",
     "output_type": "stream",
     "text": [
      "<class 'pandas.core.frame.DataFrame'>\n",
      "Int64Index: 1825 entries, 0 to 606\n",
      "Data columns (total 11 columns):\n",
      " #   Column             Non-Null Count  Dtype  \n",
      "---  ------             --------------  -----  \n",
      " 0   Unnamed: 0         1825 non-null   int64  \n",
      " 1   productAsin        1825 non-null   object \n",
      " 2   ratingScore        1825 non-null   int64  \n",
      " 3   reviewTitle        1825 non-null   object \n",
      " 4   reviewReaction     317 non-null    object \n",
      " 5   reviewDescription  1825 non-null   object \n",
      " 6   isVerified         1825 non-null   bool   \n",
      " 7   category           1825 non-null   object \n",
      " 8   Annotator_1        1817 non-null   float64\n",
      " 9   Annotator_2        1817 non-null   float64\n",
      " 10  Annotator_3        1817 non-null   float64\n",
      "dtypes: bool(1), float64(3), int64(2), object(5)\n",
      "memory usage: 158.6+ KB\n"
     ]
    }
   ],
   "source": [
    "test_df.info()"
   ]
  },
  {
   "cell_type": "code",
   "execution_count": 11,
   "metadata": {},
   "outputs": [],
   "source": [
    "from sklearn.metrics import cohen_kappa_score\n",
    "test_df = test_df[test_df['Annotator_1'].notna()]"
   ]
  },
  {
   "cell_type": "code",
   "execution_count": 12,
   "metadata": {},
   "outputs": [
    {
     "name": "stdout",
     "output_type": "stream",
     "text": [
      "<class 'pandas.core.frame.DataFrame'>\n",
      "Int64Index: 1817 entries, 0 to 606\n",
      "Data columns (total 11 columns):\n",
      " #   Column             Non-Null Count  Dtype  \n",
      "---  ------             --------------  -----  \n",
      " 0   Unnamed: 0         1817 non-null   int64  \n",
      " 1   productAsin        1817 non-null   object \n",
      " 2   ratingScore        1817 non-null   int64  \n",
      " 3   reviewTitle        1817 non-null   object \n",
      " 4   reviewReaction     314 non-null    object \n",
      " 5   reviewDescription  1817 non-null   object \n",
      " 6   isVerified         1817 non-null   bool   \n",
      " 7   category           1817 non-null   object \n",
      " 8   Annotator_1        1817 non-null   float64\n",
      " 9   Annotator_2        1817 non-null   float64\n",
      " 10  Annotator_3        1817 non-null   float64\n",
      "dtypes: bool(1), float64(3), int64(2), object(5)\n",
      "memory usage: 157.9+ KB\n"
     ]
    }
   ],
   "source": [
    "test_df.info()"
   ]
  },
  {
   "cell_type": "code",
   "execution_count": 13,
   "metadata": {},
   "outputs": [
    {
     "data": {
      "text/plain": [
       "0.9565995121990059"
      ]
     },
     "execution_count": 13,
     "metadata": {},
     "output_type": "execute_result"
    }
   ],
   "source": [
    "cohen_kappa_score(test_df[\"Annotator_1\"], test_df[\"Annotator_2\"])"
   ]
  },
  {
   "cell_type": "code",
   "execution_count": 14,
   "metadata": {},
   "outputs": [
    {
     "data": {
      "text/plain": [
       "0.9113443441348414"
      ]
     },
     "execution_count": 14,
     "metadata": {},
     "output_type": "execute_result"
    }
   ],
   "source": [
    "cohen_kappa_score(test_df[\"Annotator_1\"], test_df[\"Annotator_3\"])"
   ]
  }
 ],
 "metadata": {
  "kernelspec": {
   "display_name": "Python 3.10.4 64-bit",
   "language": "python",
   "name": "python3"
  },
  "language_info": {
   "codemirror_mode": {
    "name": "ipython",
    "version": 3
   },
   "file_extension": ".py",
   "mimetype": "text/x-python",
   "name": "python",
   "nbconvert_exporter": "python",
   "pygments_lexer": "ipython3",
   "version": "3.10.4"
  },
  "orig_nbformat": 4,
  "vscode": {
   "interpreter": {
    "hash": "e20b04dd985343179d8656fb1930f451adca8610422f13b5e4759b9499c407bc"
   }
  }
 },
 "nbformat": 4,
 "nbformat_minor": 2
}
